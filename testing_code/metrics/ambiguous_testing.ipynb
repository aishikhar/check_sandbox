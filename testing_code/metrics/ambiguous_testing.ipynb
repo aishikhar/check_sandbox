{
 "cells": [
  {
   "cell_type": "code",
   "execution_count": 115,
   "metadata": {},
   "outputs": [],
   "source": []
  },
  {
   "cell_type": "code",
   "execution_count": 9,
   "metadata": {
    "tags": [
     "outputPrepend",
     "outputPrepend",
     "outputPrepend",
     "outputPrepend",
     "outputPrepend",
     "outputPrepend",
     "outputPrepend",
     "outputPrepend",
     "outputPrepend",
     "outputPrepend",
     "outputPrepend",
     "outputPrepend",
     "outputPrepend",
     "outputPrepend",
     "outputPrepend",
     "outputPrepend",
     "outputPrepend",
     "outputPrepend",
     "outputPrepend",
     "outputPrepend",
     "outputPrepend",
     "outputPrepend",
     "outputPrepend",
     "outputPrepend",
     "outputPrepend",
     "outputPrepend",
     "outputPrepend",
     "outputPrepend",
     "outputPrepend",
     "outputPrepend",
     "outputPrepend",
     "outputPrepend",
     "outputPrepend",
     "outputPrepend",
     "outputPrepend",
     "outputPrepend",
     "outputPrepend"
    ]
   },
   "outputs": [
    {
     "output_type": "stream",
     "name": "stdout",
     "text": "Using Config file path for data_dir.\nUsing Config file path for output_dir.\nUsing placeholder path for model_dir.\nUsing Config img ext value img_ext.\n26\n['/home/dm1/shikhar/check_sandbox/testing_code/MoNuSAC_testing_data/Testing_images/', '/home/dm1/shikhar/check_sandbox/testing_code/MoNuSAC_testing_data/Testing_images/TCGA-EW-A6SB-01Z-00-DX1', '/home/dm1/shikhar/check_sandbox/testing_code/MoNuSAC_testing_data/Testing_images/TCGA-IZ-A6M9-01Z-00-DX1', '/home/dm1/shikhar/check_sandbox/testing_code/MoNuSAC_testing_data/Testing_images/TCGA-55-7573-01Z-00-DX1', '/home/dm1/shikhar/check_sandbox/testing_code/MoNuSAC_testing_data/Testing_images/TCGA-A2-A04X-01Z-00-DX1', '/home/dm1/shikhar/check_sandbox/testing_code/MoNuSAC_testing_data/Testing_images/TCGA-73-4662-01Z-00-DX1', '/home/dm1/shikhar/check_sandbox/testing_code/MoNuSAC_testing_data/Testing_images/TCGA-A2-A0ES-01Z-00-DX1', '/home/dm1/shikhar/check_sandbox/testing_code/MoNuSAC_testing_data/Testing_images/TCGA-DW-7963-01Z-00-DX1', '/home/dm1/shikhar/check_sandbox/testing_code/MoNuSAC_testing_data/Testing_images/TCGA-G9-6356-01Z-00-DX1', '/home/dm1/shikhar/check_sandbox/testing_code/MoNuSAC_testing_data/Testing_images/TCGA-50-6591-01Z-00-DX1', '/home/dm1/shikhar/check_sandbox/testing_code/MoNuSAC_testing_data/Testing_images/TCGA-YL-A9WL-01Z-00-DX1', '/home/dm1/shikhar/check_sandbox/testing_code/MoNuSAC_testing_data/Testing_images/TCGA-49-6743-01Z-00-DX2', '/home/dm1/shikhar/check_sandbox/testing_code/MoNuSAC_testing_data/Testing_images/TCGA-VP-A87H-01Z-00-DX1', '/home/dm1/shikhar/check_sandbox/testing_code/MoNuSAC_testing_data/Testing_images/TCGA-78-7152-01Z-00-DX1', '/home/dm1/shikhar/check_sandbox/testing_code/MoNuSAC_testing_data/Testing_images/TCGA-2Z-A9JN-01Z-00-DX1', '/home/dm1/shikhar/check_sandbox/testing_code/MoNuSAC_testing_data/Testing_images/TCGA-G9-6367-01Z-00-DX1', '/home/dm1/shikhar/check_sandbox/testing_code/MoNuSAC_testing_data/Testing_images/TCGA-D8-A3Z6-01Z-00-DX2', '/home/dm1/shikhar/check_sandbox/testing_code/MoNuSAC_testing_data/Testing_images/TCGA-E2-A108-01Z-00-DX1', '/home/dm1/shikhar/check_sandbox/testing_code/MoNuSAC_testing_data/Testing_images/TCGA-MP-A4T7-01Z-00-DX1', '/home/dm1/shikhar/check_sandbox/testing_code/MoNuSAC_testing_data/Testing_images/TCGA-55-7570-01Z-00-DX1', '/home/dm1/shikhar/check_sandbox/testing_code/MoNuSAC_testing_data/Testing_images/TCGA-X4-A8KS-01Z-00-DX3', '/home/dm1/shikhar/check_sandbox/testing_code/MoNuSAC_testing_data/Testing_images/TCGA-DW-7838-01Z-00-DX1', '/home/dm1/shikhar/check_sandbox/testing_code/MoNuSAC_testing_data/Testing_images/TCGA-VP-A87E-01Z-00-DX1', '/home/dm1/shikhar/check_sandbox/testing_code/MoNuSAC_testing_data/Testing_images/TCGA-F9-A8NY-01Z-00-DX1', '/home/dm1/shikhar/check_sandbox/testing_code/MoNuSAC_testing_data/Testing_images/TCGA-MH-A55W-01Z-00-DX1', '/home/dm1/shikhar/check_sandbox/testing_code/MoNuSAC_testing_data/Testing_images/TCGA-2Z-A9JG-01Z-00-DX1']\n"
    },
    {
     "output_type": "error",
     "ename": "SystemExit",
     "evalue": "",
     "traceback": [
      "An exception has occurred, use %tb to see the full traceback.\n",
      "\u001b[0;31mSystemExit\u001b[0m\n"
     ]
    }
   ],
   "source": [
    "from glob import glob \n",
    "import os\n",
    "import cv2\n",
    "import numpy as np\n",
    "from scipy import io as sio\n",
    "import matplotlib.pyplot as plt\n",
    "from IPython.display import clear_output\n",
    "import sys\n",
    "data_dir = None\n",
    "output_dir = None\n",
    "model_path = None\n",
    "img_ext = None\n",
    "ambi_path = None\n",
    "if(not data_dir):\n",
    "    print('Using Config file path for data_dir.')\n",
    "    data_dir = '/home/dm1/shikhar/check_sandbox/testing_code/MoNuSAC_testing_data/Testing_images'\n",
    "if(not output_dir):\n",
    "    print('Using Config file path for output_dir.')\n",
    "    output_dir = '/home/dm1/shikhar/check_sandbox/testing_code/testing_the_output'\n",
    "if(not model_path):\n",
    "    print('Using placeholder path for model_dir.')\n",
    "    model_path = '/home/dm1/shikhar/check_sandbox/testing_code/model_saved/model-33198.index'\n",
    "if(not img_ext):\n",
    "    print('Using Config img ext value img_ext.')\n",
    "    img_ext='.tif'\n",
    "if(not ambi_path):\n",
    "    # Hard coding path here for single test run. \n",
    "    ambi_path = '/home/dm1/shikhar/check_sandbox/testing_code/MoNuSAC_testing_data/MoNuSAC_testing_ambiguous_regions'\n",
    "\n",
    "#file_list = glob.glob('%s/*%s' % (data_dir, img_ext))\n",
    "#file_list.sort() # ensure same order\n",
    "#if(not file_list):\n",
    "# print('No Images found in data_dir! Check script arg-paths') \n",
    "# Create Output Directory\n",
    "#rm_n_mkdir(output_dir)       \n",
    "# Expecting MoNuSAC's input data directory tree (Patient Name -> Image Name -> )\n",
    "\n",
    "if not os.path.isdir(output_dir):\n",
    "    os.makedirs(output_dir)\n",
    "os.chdir(output_dir)\n",
    "patients = [x[0] for x in os.walk(data_dir)]#Total patients in the data_path\n",
    "\n",
    "print(len(patients))\n",
    "print(patients)\n",
    "sys.exit()\n",
    "for patient_loc in patients:\n",
    "    patient_name = patient_loc[len(data_dir)+1:]#Patient name\n",
    "    #print(patient_name, flush=True)\n",
    "    \n",
    "    ## To make patient's name directory in the destination folder\n",
    "    try:\n",
    "        os.mkdir(patient_name)\n",
    "    except OSError:\n",
    "        print (\"\\n Creation of the patient's directory %s failed\" % patient_name,  flush=True)\n",
    "\n",
    "    sub_images = glob(str(patient_loc) + '/*' + str(img_ext))\n",
    "    for sub_image_loc in sub_images:\n",
    "        sub_image_name = sub_image_loc[len(data_dir)+len(patient_name)+1:-4]        \n",
    "        #print(sub_image_name)\n",
    "        \n",
    "        ## To make sub_image directory under the patient's folder\n",
    "        sub_image = './'+patient_name + sub_image_name #Destination path\n",
    "        '''try:\n",
    "            os.mkdir(sub_image)\n",
    "        except OSError:\n",
    "            print (\"\\n Creation of the patient's directory %s failed\" % sub_image)\n",
    "        \n",
    "        image_name = sub_image_loc\n",
    "        if(img_ext == '.svs'):\n",
    "            img = openslide.OpenSlide(image_name)\n",
    "            cv2.imwrite(sub_image_loc[:-4]+'.png', np.array(img.read_region((0,0),0,img.level_dimensions[0])))      \n",
    "            img = cv2.imread(sub_image_loc[:-4]+'.png')\n",
    "        else:\n",
    "            img = cv2.imread(image_name)\n",
    "            img = cv2.cvtColor(img, cv2.COLOR_BGR2RGB)\n",
    "\n",
    "        ## Generate Prediction Map\n",
    "        pred_map = self.__gen_prediction(img, predictor)\n",
    "        pred = pred_map\n",
    "        # Process Prediction Map\n",
    "        pred_inst = pred[...,self.nr_types:]\n",
    "        pred_type = pred[...,:self.nr_types]\n",
    "        pred_inst = np.squeeze(pred_inst)\n",
    "        pred_type = np.argmax(pred_type, axis=-1)\n",
    "        pred_inst = postproc.hover.proc_np_hv(pred_inst, \n",
    "                    marker_mode=marker_mode,\n",
    "                    energy_mode=energy_mode, rgb=img)\n",
    "        pred_inst = remap_label(pred_inst, by_size=True)\n",
    "        \n",
    "        # Map Instances to Labels for creating submission format\n",
    "        pred_id_list = list(np.unique(pred_inst))[1:] # exclude background ID\n",
    "        pred_inst_type = np.full(len(pred_id_list), 0, dtype=np.int32)\n",
    "        for idx, inst_id in enumerate(pred_id_list):\n",
    "            inst_type = pred_type[pred_inst == inst_id]\n",
    "            type_list, type_pixels = np.unique(inst_type, return_counts=True)\n",
    "            type_list = list(zip(type_list, type_pixels))\n",
    "            type_list = sorted(type_list, key=lambda x: x[1], reverse=True)\n",
    "            inst_type = type_list[0][0]\n",
    "            if inst_type == 0: # ! pick the 2nd most dominant if exist\n",
    "                if len(type_list) > 1:\n",
    "                    inst_type = type_list[1][0]\n",
    "                else:\n",
    "                    print('[Warn] Instance has `background` type' )\n",
    "            pred_inst_type[idx] = inst_type\n",
    "        '''\n",
    "\n",
    "        # Adding this part only for testing\n",
    "        # '/home/dm1/shikhar/check_sandbox/testing_code/test_staging/TCGA-2Z-A9JG-01Z-00-DX1/TCGA-2Z-A9JG-01Z-00-DX1_1'\n",
    "        # '/prediction.mat'\n",
    "        pred_path = '/home/dm1/shikhar/check_sandbox/testing_code/test_staging'\n",
    "        pred_inst = sio.loadmat(pred_path + '/' + patient_name + '/' + sub_image_name + '/prediction.mat')['n_ary_mask']\n",
    "        #  ====== \n",
    "        # Read Ambiguous Region mask if any\n",
    "        ambi_mask_final = None\n",
    "        full_ambi_path = ambi_path + '/' + patient_name + '/' + sub_image_name + '/Ambiguous' \n",
    "        #print('\\tAmbi Path: ',full_ambi_path)\n",
    "        ambi_masks = glob(full_ambi_path+'/*')\n",
    "        if(ambi_masks):\n",
    "            try:\n",
    "                ambi_mask_final = cv2.imread(ambi_masks[0])\n",
    "                #print('Ambiguous Mask Found: ',ambi_mask_final.shape)\n",
    "            \n",
    "                # START CHANGES \n",
    "                gray = cv2.cvtColor(ambi_mask_final, cv2.COLOR_BGR2GRAY)\n",
    "                count, ambi = cv2.connectedComponents(gray)\n",
    "                #print('Ambiguous Regions (with Background): ',count)\n",
    "                \n",
    "                #print('Prediction: \\n\\tShape: %s\\n\\tUnique: %s' % (pred_inst.shape, np.unique(pred_inst)))\n",
    "                #print('Ambiguous: \\n\\tShape: %s\\n\\tUnique: %s' % (ambi.shape, np.unique(ambi)))\n",
    "                \n",
    "                # Remove Ambiguous Regions from prediction\n",
    "                # Format -> def get_fast_pq(true, pred, match_iou=0.5):\n",
    "                match_iou = 0.01 # Modify parameter experimentally\n",
    "                pairwise_iou = get_fast_pq(true = ambi, pred = pred_inst)\n",
    "                matched_regions = np.array(pairwise_iou >= match_iou, np.uint8)\n",
    "                matched_region_list = np.nonzero(matched_regions)[1]\n",
    "                prediction_cleaned = pred_inst.copy()\n",
    "                for id in matched_region_list:\n",
    "                    region_id = id + 1\n",
    "                    prediction_cleaned[prediction_cleaned == region_id] = 0\n",
    "                \n",
    "                \n",
    "                # Show Overlay of Prediction & Ambi\n",
    "                plt.imshow(pred_inst, 'gray', interpolation='none')\n",
    "                plt.imshow(ambi, 'Paired', interpolation='none', alpha=0.7)\n",
    "                plt.show()\n",
    "                # Show Overlay of Prediction_cleaned & Ambi\n",
    "                plt.imshow(prediction_cleaned, 'gray', interpolation='none')\n",
    "                plt.imshow(ambi, 'Paired', interpolation='none', alpha=0.7)\n",
    "                plt.show()\n",
    "                '''#print('Prediction: ',np.unique(pred_inst))\n",
    "                plt.imshow(pred_inst)\n",
    "                plt.show()\n",
    "                #print('Prediction Cleaned: ',np.unique(prediction_cleaned))\n",
    "                plt.imshow(prediction_cleaned)\n",
    "                plt.show()\n",
    "                #print('Ambiguous: ',np.unique(ambi))\n",
    "                plt.imshow(ambi)\n",
    "                plt.show()'''\n",
    "                print('Removed are: ', set(list(np.unique(pred_inst))) - set(list(np.unique(prediction_cleaned))) )\n",
    "                say = input('Continue?')\n",
    "                if((say=='y')| (say == 'Y')):\n",
    "                    continue\n",
    "                else:\n",
    "                    sys.exit()\n",
    "                # ========\n",
    "            except Exception as e:\n",
    "                print(e)\n",
    "        else:\n",
    "            print('\\n\\t # No Ambiguous Masks for this image: ', full_ambi_path)\n",
    "\n",
    "'''        # Write Instance Maps based on their Classes/Labels to the folders\n",
    "        for class_id in range(1,self.nr_types):\n",
    "            separated_inst = pred_inst.copy()\n",
    "            separated_inst[pred_inst_type[separated_inst-1]!=[class_id]] = 0\n",
    "            # Create directory for each label\n",
    "            label = class_id_mapping[class_id]\n",
    "            sub_path = sub_image+'/'+label\n",
    "            try:\n",
    "                os.mkdir(sub_path)\n",
    "            except OSError:\n",
    "                print (\"Creation of the directory %s failed\" % label)\n",
    "            else:\n",
    "                print (\"Successfully created the directory %s \" % label)\n",
    "\n",
    "            sio.savemat(sub_path +'/maskorempty.mat', \n",
    "                {'n_ary_mask'  :  separated_inst})'''"
   ]
  },
  {
   "cell_type": "code",
   "execution_count": null,
   "metadata": {},
   "outputs": [],
   "source": []
  },
  {
   "cell_type": "code",
   "execution_count": null,
   "metadata": {},
   "outputs": [],
   "source": []
  },
  {
   "cell_type": "markdown",
   "metadata": {},
   "source": [
    "### Testing Ambiguous Region Removal Algorithm"
   ]
  },
  {
   "cell_type": "code",
   "execution_count": 1,
   "metadata": {},
   "outputs": [],
   "source": [
    "from scipy.optimize import linear_sum_assignment\n",
    "\n",
    "def get_fast_pq(true, pred, match_iou=0.5):\n",
    "    \"\"\"\n",
    "    From Hover-Net: Simon Graham .et.al. \n",
    "    `match_iou` is the IoU threshold level to determine the pairing between\n",
    "    GT instances `p` and prediction instances `g`. `p` and `g` is a pair\n",
    "    if IoU > `match_iou`. However, pair of `p` and `g` must be unique \n",
    "    (1 prediction instance to 1 GT instance mapping).\n",
    "\n",
    "    If `match_iou` < 0.5, Munkres assignment (solving minimum weight matching\n",
    "    in bipartite graphs) is caculated to find the maximal amount of unique pairing. \n",
    "\n",
    "    If `match_iou` >= 0.5, all IoU(p,g) > 0.5 pairing is proven to be unique and\n",
    "    the number of pairs is also maximal.    \n",
    "    \n",
    "    Fast computation requires instance IDs are in contiguous orderding \n",
    "    i.e [1, 2, 3, 4] not [2, 3, 6, 10]. Please call `remap_label` beforehand \n",
    "    and `by_size` flag has no effect on the result.\n",
    "\n",
    "    Returns:\n",
    "        [dq, sq, pq]: measurement statistic\n",
    "\n",
    "        [paired_true, paired_pred, unpaired_true, unpaired_pred]: \n",
    "                      pairing information to perform measurement\n",
    "                    \n",
    "    \"\"\"\n",
    "    assert match_iou >= 0.0, \"Cant' be negative\"\n",
    "    \n",
    "    true = np.copy(true)\n",
    "    pred = np.copy(pred)\n",
    "    true_id_list = list(np.unique(true))\n",
    "    pred_id_list = list(np.unique(pred))\n",
    "\n",
    "    true_masks = [None,]\n",
    "    for t in true_id_list[1:]:\n",
    "        t_mask = np.array(true == t, np.uint8)\n",
    "        true_masks.append(t_mask)\n",
    "    \n",
    "    pred_masks = [None,]\n",
    "    for p in pred_id_list[1:]:\n",
    "        p_mask = np.array(pred == p, np.uint8)\n",
    "        pred_masks.append(p_mask)\n",
    "\n",
    "    # prefill with value\n",
    "    pairwise_iou = np.zeros([len(true_id_list) -1, \n",
    "                             len(pred_id_list) -1], dtype=np.float64)\n",
    "\n",
    "    # caching pairwise iou\n",
    "    for true_id in true_id_list[1:]: # 0-th is background\n",
    "        t_mask = true_masks[true_id]\n",
    "        pred_true_overlap = pred[t_mask > 0]\n",
    "        pred_true_overlap_id = np.unique(pred_true_overlap)\n",
    "        pred_true_overlap_id = list(pred_true_overlap_id)\n",
    "        for pred_id in pred_true_overlap_id:\n",
    "            if pred_id == 0: # ignore\n",
    "                continue # overlaping background\n",
    "            p_mask = pred_masks[pred_id]\n",
    "            total = (t_mask + p_mask).sum()\n",
    "            inter = (t_mask * p_mask).sum()\n",
    "            iou = inter / (total - inter)\n",
    "            pairwise_iou[true_id-1, pred_id-1] = iou\n",
    "\n",
    "    return pairwise_iou"
   ]
  },
  {
   "cell_type": "code",
   "execution_count": 1,
   "metadata": {},
   "outputs": [],
   "source": [
    "# Sample Ambiguous Region\n",
    "from glob import glob \n",
    "import os\n",
    "import cv2\n",
    "import numpy as np\n",
    "from scipy import io as sio\n",
    "import matplotlib.pyplot as plt\n",
    "from IPython.display import clear_output\n",
    "_ambiguous = cv2.imread('/home/dm1/shikhar/check_sandbox/testing_code/MoNuSAC_testing_data/MoNuSAC_testing_ambiguous_regions/TCGA-2Z-A9JG-01Z-00-DX1/TCGA-2Z-A9JG-01Z-00-DX1_1/Ambiguous/5_mask.tif')\n",
    "gray = cv2.cvtColor(_ambiguous, cv2.COLOR_BGR2GRAY)\n",
    "count, ambi = cv2.connectedComponents(gray)"
   ]
  },
  {
   "cell_type": "code",
   "execution_count": 2,
   "metadata": {},
   "outputs": [],
   "source": [
    "path = '/home/dm1/shikhar/check_sandbox/testing_code/test_output_1/TCGA-2Z-A9JG-01Z-00-DX1/TCGA-2Z-A9JG-01Z-00-DX1_1'\n",
    "try:\n",
    "    e_image = sio.loadmat(path + '/Epithelial/maskorempty.mat')['n_ary_mask']\n",
    "    l = sio.loadmat(path + '/Lymphocyte/maskorempty.mat')['n_ary_mask']\n",
    "    m = sio.loadmat(path + '/Macrophage/maskorempty.mat')['n_ary_mask']\n",
    "    n = sio.loadmat(path + '/Neutrophil/maskorempty.mat')['n_ary_mask']\n",
    "except Exception as e:\n",
    "    print('Exception: ',e)"
   ]
  },
  {
   "cell_type": "code",
   "execution_count": 3,
   "metadata": {},
   "outputs": [],
   "source": [
    "path = '/home/dm1/shikhar/check_sandbox/testing_code/test_staging/TCGA-2Z-A9JG-01Z-00-DX1/TCGA-2Z-A9JG-01Z-00-DX1_1'\n",
    "try:\n",
    "    prediction = sio.loadmat(path + '/prediction.mat')['n_ary_mask']\n",
    "except Exception as e:\n",
    "    print('Exception: ',e)"
   ]
  },
  {
   "cell_type": "code",
   "execution_count": 4,
   "metadata": {},
   "outputs": [],
   "source": [
    "img_path = '/home/dm1/shikhar/check_sandbox/testing_code/MoNuSAC_testing_data/Testing_images/TCGA-2Z-A9JG-01Z-00-DX1/TCGA-2Z-A9JG-01Z-00-DX1_1.tif'\n",
    "img = cv2.imread(img_path)"
   ]
  },
  {
   "cell_type": "code",
   "execution_count": 5,
   "metadata": {},
   "outputs": [
    {
     "output_type": "error",
     "ename": "NameError",
     "evalue": "name 'get_fast_pq' is not defined",
     "traceback": [
      "\u001b[0;31m---------------------------------------------------------------------------\u001b[0m",
      "\u001b[0;31mNameError\u001b[0m                                 Traceback (most recent call last)",
      "\u001b[0;32m<ipython-input-5-d45407b5809f>\u001b[0m in \u001b[0;36m<module>\u001b[0;34m\u001b[0m\n\u001b[1;32m      1\u001b[0m \u001b[0;31m# Format -> def get_fast_pq(true, pred, match_iou=0.5):\u001b[0m\u001b[0;34m\u001b[0m\u001b[0;34m\u001b[0m\u001b[0;34m\u001b[0m\u001b[0m\n\u001b[1;32m      2\u001b[0m \u001b[0mmatch_iou\u001b[0m \u001b[0;34m=\u001b[0m \u001b[0;36m0.4\u001b[0m \u001b[0;31m# Modify parameter experimentally\u001b[0m\u001b[0;34m\u001b[0m\u001b[0;34m\u001b[0m\u001b[0m\n\u001b[0;32m----> 3\u001b[0;31m \u001b[0mpairwise_iou\u001b[0m \u001b[0;34m=\u001b[0m \u001b[0mget_fast_pq\u001b[0m\u001b[0;34m(\u001b[0m\u001b[0mtrue\u001b[0m \u001b[0;34m=\u001b[0m \u001b[0mambi\u001b[0m\u001b[0;34m,\u001b[0m \u001b[0mpred\u001b[0m \u001b[0;34m=\u001b[0m \u001b[0mprediction\u001b[0m\u001b[0;34m)\u001b[0m\u001b[0;34m\u001b[0m\u001b[0;34m\u001b[0m\u001b[0m\n\u001b[0m\u001b[1;32m      4\u001b[0m \u001b[0mmatched_regions\u001b[0m \u001b[0;34m=\u001b[0m \u001b[0mnp\u001b[0m\u001b[0;34m.\u001b[0m\u001b[0marray\u001b[0m\u001b[0;34m(\u001b[0m\u001b[0mpairwise_iou\u001b[0m \u001b[0;34m>=\u001b[0m \u001b[0mmatch_iou\u001b[0m\u001b[0;34m,\u001b[0m \u001b[0mnp\u001b[0m\u001b[0;34m.\u001b[0m\u001b[0muint8\u001b[0m\u001b[0;34m)\u001b[0m\u001b[0;34m\u001b[0m\u001b[0;34m\u001b[0m\u001b[0m\n\u001b[1;32m      5\u001b[0m \u001b[0mmatched_region_list\u001b[0m \u001b[0;34m=\u001b[0m \u001b[0mnp\u001b[0m\u001b[0;34m.\u001b[0m\u001b[0mnonzero\u001b[0m\u001b[0;34m(\u001b[0m\u001b[0mmatched_regions\u001b[0m\u001b[0;34m)\u001b[0m\u001b[0;34m[\u001b[0m\u001b[0;36m1\u001b[0m\u001b[0;34m]\u001b[0m\u001b[0;34m\u001b[0m\u001b[0;34m\u001b[0m\u001b[0m\n",
      "\u001b[0;31mNameError\u001b[0m: name 'get_fast_pq' is not defined"
     ]
    }
   ],
   "source": [
    "# Format -> def get_fast_pq(true, pred, match_iou=0.5):\n",
    "match_iou = 0.4 # Modify parameter experimentally\n",
    "pairwise_iou = get_fast_pq(true = ambi, pred = prediction)\n",
    "matched_regions = np.array(pairwise_iou >= match_iou, np.uint8)\n",
    "matched_region_list = np.nonzero(matched_regions)[1]\n",
    "prediction_cleaned = prediction.copy()\n",
    "for id in matched_region_list:\n",
    "    region_id = id + 1\n",
    "    prediction_cleaned[prediction_cleaned == region_id] = 0\n"
   ]
  },
  {
   "cell_type": "code",
   "execution_count": null,
   "metadata": {},
   "outputs": [],
   "source": [
    "    plt.imshow(img)\n",
    "    plt.show()\n",
    "    print('Prediction: ',np.unique(prediction))\n",
    "    plt.imshow(prediction)\n",
    "    plt.show()\n",
    "    print('Prediction Cleaned: ',np.unique(prediction_cleaned))\n",
    "    plt.imshow(prediction_cleaned)\n",
    "    plt.show()\n",
    "    print('Ambiguous')\n",
    "    plt.imshow(ambi)\n",
    "    plt.show()\n",
    "    print('Old: ')\n",
    "    plt.imshow(e_image)\n",
    "    plt.show()\n",
    "    print(np.unique(e_image,return_counts = True))\n",
    "    plt.imshow(l)\n",
    "    plt.show()\n",
    "    print(np.unique(l,return_counts = True))\n",
    "    plt.imshow(m)\n",
    "    plt.show()\n",
    "    print(np.unique(m,return_counts = True))\n",
    "    plt.imshow(n)\n",
    "    plt.show()\n",
    "    print(np.unique(n,return_counts = True))"
   ]
  },
  {
   "cell_type": "code",
   "execution_count": null,
   "metadata": {},
   "outputs": [],
   "source": []
  },
  {
   "cell_type": "code",
   "execution_count": 7,
   "metadata": {},
   "outputs": [
    {
     "output_type": "display_data",
     "data": {
      "text/plain": "<Figure size 432x288 with 1 Axes>",
      "image/svg+xml": "<?xml version=\"1.0\" encoding=\"utf-8\" standalone=\"no\"?>\n<!DOCTYPE svg PUBLIC \"-//W3C//DTD SVG 1.1//EN\"\n  \"http://www.w3.org/Graphics/SVG/1.1/DTD/svg11.dtd\">\n<!-- Created with matplotlib (https://matplotlib.org/) -->\n<svg height=\"251.55171pt\" version=\"1.1\" viewBox=\"0 0 216.583275 251.55171\" width=\"216.583275pt\" xmlns=\"http://www.w3.org/2000/svg\" xmlns:xlink=\"http://www.w3.org/1999/xlink\">\n <defs>\n  <style type=\"text/css\">\n*{stroke-linecap:butt;stroke-linejoin:round;}\n  </style>\n </defs>\n <g id=\"figure_1\">\n  <g id=\"patch_1\">\n   <path d=\"M 0 251.55171 \nL 216.583275 251.55171 \nL 216.583275 0 \nL 0 0 \nz\n\" style=\"fill:none;\"/>\n  </g>\n  <g id=\"axes_1\">\n   <g id=\"patch_2\">\n    <path d=\"M 33.2875 227.673585 \nL 209.383275 227.673585 \nL 209.383275 10.233585 \nL 33.2875 10.233585 \nz\n\" style=\"fill:#ffffff;\"/>\n   </g>\n   <g clip-path=\"url(#p8d7cb02b4f)\">\n    <image height=\"142\" id=\"imagebc0172a94e\" transform=\"matrix(1.53913 0 0 1.535211 33.2875 9.673585)\" width=\"115\" xlink:href=\"data:image/png;base64,\niVBORw0KGgoAAAANSUhEUgAAAHMAAACOCAYAAAACTzchAAAABHNCSVQICAgIfAhkiAAABK9JREFUeJztm91RrEAQhYdbNwzJww1E89BA3Dw0EM0D89j7YKFcHGB+eqa7D+er2gd3waX4OD09AzuEEG6BQPBH+wCIHJQJBGUCQZlAUCYQf7UPwDIvLy+H2zw/P3c4kjSGwKnJL1IkrrEglWV2RYlIK5hM5jRN//09jmOX760VqZ1OMzLXApf0kCmVSE2hamV2mqb/XkfbekGzTKvILJHTUqjncXJJd5mpUmKl1UtCpS6O9/f371cKpueZ4zj+EjhNU7eGSIMtccv3L5dLdBuzMr2kUIrU9M3bxoR2LbNnEpRTanNE7u3DRQMgKDPozg1LUrm1b1eZEo0LcvNTS/dkUsYPNamM/Q+VMlsqNHe/19fX79cR2uuqEpicmtSkd0vc+v3Hx8fi70hB4+Iw2QClrNfGSEng3rY9BUiU2DVqMsdxPExg63lpK6FaJVs9mbPUtdgU2UtyUnm0Xw8ZW0tyNajLXLIl9ohSkXv7lwo95f1Ma2wJzZGj3RGb7GatsZS0XHOtlXe5XKoboWW5NvPYSCm1JXZN6ylLjFKh63GXZXaF9MWRglQzRJlGyBUa255jpiFmQXtld096c5lPT0+/3rter62/1jWlZbdJAxQTGENCaqsxTqMRqkV8zEwVmbvtFh5PeitEZZbIkRBKvhArsxJSSssuwlxTApFkaqdL8uR7FRmCsXkm0kWhQbVMbQEztSK8iwzBWDJDqLs4SoUgiAwBcAVoFnPUFKEIXAIncwZR1hFVZbbVeGllHPaGuTGTlEOZQFAmEJQJRJVM3pe0BZMJBGUCUS2zRall+S5DJJk8+TYQK7NSQnlhlCM6ZtaKoMg6xBugUiEUWU+z35r0fNySfNFsanK9XimqM+5/BUZ+4KIBEJQJBGUCQZlAUCYQlAkE7KOWvbjdfs/shmFQOBIms4qYyL33W0OZQFBmIzTSSZkZrAXtjY0a4yZlAkGZiSxTqdXgHEGZmVgVGQJlQsH7mRnkpJINEAhcAXJAiiQtkSGwzBZzu93CMAzfpVdT4gxlAsG7Jo15eHjY/fzt7U3su5jMRhxJXCMhVS2Zd3d3m599fn52PBJZciVKotLN7omcPz/aBg2Ji6B7mc2V5CWlUomsKbddk1mSNiY0nW4ya6RYF6o5Ti7pUmYlZVgru61ElpRbLucB0VymdIm0XnI1cZlMCo3jUuYZKBmL3cq0kE4rXeyMW5kWkFwkl4AygaBMIFzLtDButoKLBieHMoFoLtPaWqo0ljpaJlMAaaGl/48yhZASav7mdKtSa62E1wqt3Z/JFKZUiESyuz4DhHyTOkbK2q3r52YlhHoQqUH3MlsrgiK3UX2iPSellHiMqZ8nLOVSXj6mZJI6ODUBgjKBoEwgKBMI97+cvr+/3/zs4+Oj45Ho47ab3ZO45ixS3cnMkbjkDEJdySwVuQRZqpsGSEIkOi5kSopEvihcyJQGVah5magnvgXmZZJ0TisTMfGnlYkIZQJBmUBQJhCUCQRlAkGZQJxWJuLdE/MyEU96K8zLJOm4kCmdTtS0u5ApCarIEBzJlJCALDIERzJDqJOBLjIEZw90zfAxyziukjlzJkE5uEwmieMymSTOP3aUpnEur4NDAAAAAElFTkSuQmCC\"/>\n   </g>\n   <g clip-path=\"url(#p8d7cb02b4f)\">\n    <image height=\"142\" id=\"image0cfd86c1cd\" opacity=\"0.7\" transform=\"matrix(1.53913 0 0 1.535211 33.2875 9.673585)\" width=\"115\" xlink:href=\"data:image/png;base64,\niVBORw0KGgoAAAANSUhEUgAAAHMAAACOCAYAAAACTzchAAAABHNCSVQICAgIfAhkiAAAAltJREFUeJzt3U1ugzAQQOFJ1Vv0Cr1jmjv2Cj1HuqhYQP5swB7z+j4pq7BAeowTHImcIs7XEMJb9gloP8YEMSaIMUGMCWJMkPFifn/9vVTtlH6fWRPus+LYfyh3Mmsn0Il9Km8yt4ZxSm+M95lZyim9cdyYEQZdyIlphCaOPZmaMSaIMUGMCZIT03vEJpxMkLyYe0ynEz5z3Mk05I3jxtSN3Jhrp8upvCv/98xJyRafEZ8aJ+bkUVRDvjReTK3mFyAQY4IYE8SYIMYEMSaIMUGMCWJMEGOCGBPEmCDGBDEmiDFBjAliTBBjghgTxJggxgQxJogxQYwJYkwQY4IYE8SYIMYEMSaIMUGMCWJMEGOCGBPEmCDGBHnPPoEjuv5cnr5/+jh3OpM5J7PSq5Clx7RgzEauP5fuUY1ZIWviShmz0NqQPS8AY3bQK6gxC4y+vE6MCWJMEGOCGBPEmCDuzTbWc5/WySyQtXFey8lsJOMCcDIL1cTJmmT/PaHSo92gEZZiY4K4zIIYE8SYIMYEMSaIMUGMCWJMEGOCGBPEmCDGBDEmiDFBjAliTBBjghgTxJggxgQxJogxQYwJYkwQY4IYE8SYIMYEMSaIMUGMCWJMEGOCGBPEmCDGBDEmiDFBjAliTBBjghgTxJggxgQxJogPD052jvkjTy+x/lGnPqK0s2W8e9YGdZntqCRkzXFLLrMdrI1Ty8lsrFfICGM21TNkhDGb6R0ywphNZISMMObu9gjprYmMOZotO0DG3NHWJXZLyAhjDmNryAh3gNLtEXFizEaWkaYleM94S7+Fgld4yoAAIAAAAABJRU5ErkJggg==\"/>\n   </g>\n   <g id=\"matplotlib.axis_1\">\n    <g id=\"xtick_1\">\n     <g id=\"line2d_1\">\n      <defs>\n       <path d=\"M 0 0 \nL 0 3.5 \n\" id=\"mc67c07683a\" style=\"stroke:#000000;stroke-width:0.8;\"/>\n      </defs>\n      <g>\n       <use style=\"stroke:#000000;stroke-width:0.8;\" x=\"34.053134\" xlink:href=\"#mc67c07683a\" y=\"227.673585\"/>\n      </g>\n     </g>\n     <g id=\"text_1\">\n      <!-- 0 -->\n      <defs>\n       <path d=\"M 31.78125 66.40625 \nQ 24.171875 66.40625 20.328125 58.90625 \nQ 16.5 51.421875 16.5 36.375 \nQ 16.5 21.390625 20.328125 13.890625 \nQ 24.171875 6.390625 31.78125 6.390625 \nQ 39.453125 6.390625 43.28125 13.890625 \nQ 47.125 21.390625 47.125 36.375 \nQ 47.125 51.421875 43.28125 58.90625 \nQ 39.453125 66.40625 31.78125 66.40625 \nz\nM 31.78125 74.21875 \nQ 44.046875 74.21875 50.515625 64.515625 \nQ 56.984375 54.828125 56.984375 36.375 \nQ 56.984375 17.96875 50.515625 8.265625 \nQ 44.046875 -1.421875 31.78125 -1.421875 \nQ 19.53125 -1.421875 13.0625 8.265625 \nQ 6.59375 17.96875 6.59375 36.375 \nQ 6.59375 54.828125 13.0625 64.515625 \nQ 19.53125 74.21875 31.78125 74.21875 \nz\n\" id=\"DejaVuSans-48\"/>\n      </defs>\n      <g transform=\"translate(30.871884 242.272022)scale(0.1 -0.1)\">\n       <use xlink:href=\"#DejaVuSans-48\"/>\n      </g>\n     </g>\n    </g>\n    <g id=\"xtick_2\">\n     <g id=\"line2d_2\">\n      <g>\n       <use style=\"stroke:#000000;stroke-width:0.8;\" x=\"72.334824\" xlink:href=\"#mc67c07683a\" y=\"227.673585\"/>\n      </g>\n     </g>\n     <g id=\"text_2\">\n      <!-- 25 -->\n      <defs>\n       <path d=\"M 19.1875 8.296875 \nL 53.609375 8.296875 \nL 53.609375 0 \nL 7.328125 0 \nL 7.328125 8.296875 \nQ 12.9375 14.109375 22.625 23.890625 \nQ 32.328125 33.6875 34.8125 36.53125 \nQ 39.546875 41.84375 41.421875 45.53125 \nQ 43.3125 49.21875 43.3125 52.78125 \nQ 43.3125 58.59375 39.234375 62.25 \nQ 35.15625 65.921875 28.609375 65.921875 \nQ 23.96875 65.921875 18.8125 64.3125 \nQ 13.671875 62.703125 7.8125 59.421875 \nL 7.8125 69.390625 \nQ 13.765625 71.78125 18.9375 73 \nQ 24.125 74.21875 28.421875 74.21875 \nQ 39.75 74.21875 46.484375 68.546875 \nQ 53.21875 62.890625 53.21875 53.421875 \nQ 53.21875 48.921875 51.53125 44.890625 \nQ 49.859375 40.875 45.40625 35.40625 \nQ 44.1875 33.984375 37.640625 27.21875 \nQ 31.109375 20.453125 19.1875 8.296875 \nz\n\" id=\"DejaVuSans-50\"/>\n       <path d=\"M 10.796875 72.90625 \nL 49.515625 72.90625 \nL 49.515625 64.59375 \nL 19.828125 64.59375 \nL 19.828125 46.734375 \nQ 21.96875 47.46875 24.109375 47.828125 \nQ 26.265625 48.1875 28.421875 48.1875 \nQ 40.625 48.1875 47.75 41.5 \nQ 54.890625 34.8125 54.890625 23.390625 \nQ 54.890625 11.625 47.5625 5.09375 \nQ 40.234375 -1.421875 26.90625 -1.421875 \nQ 22.3125 -1.421875 17.546875 -0.640625 \nQ 12.796875 0.140625 7.71875 1.703125 \nL 7.71875 11.625 \nQ 12.109375 9.234375 16.796875 8.0625 \nQ 21.484375 6.890625 26.703125 6.890625 \nQ 35.15625 6.890625 40.078125 11.328125 \nQ 45.015625 15.765625 45.015625 23.390625 \nQ 45.015625 31 40.078125 35.4375 \nQ 35.15625 39.890625 26.703125 39.890625 \nQ 22.75 39.890625 18.8125 39.015625 \nQ 14.890625 38.140625 10.796875 36.28125 \nz\n\" id=\"DejaVuSans-53\"/>\n      </defs>\n      <g transform=\"translate(65.972324 242.272022)scale(0.1 -0.1)\">\n       <use xlink:href=\"#DejaVuSans-50\"/>\n       <use x=\"63.623047\" xlink:href=\"#DejaVuSans-53\"/>\n      </g>\n     </g>\n    </g>\n    <g id=\"xtick_3\">\n     <g id=\"line2d_3\">\n      <g>\n       <use style=\"stroke:#000000;stroke-width:0.8;\" x=\"110.616514\" xlink:href=\"#mc67c07683a\" y=\"227.673585\"/>\n      </g>\n     </g>\n     <g id=\"text_3\">\n      <!-- 50 -->\n      <g transform=\"translate(104.254014 242.272022)scale(0.1 -0.1)\">\n       <use xlink:href=\"#DejaVuSans-53\"/>\n       <use x=\"63.623047\" xlink:href=\"#DejaVuSans-48\"/>\n      </g>\n     </g>\n    </g>\n    <g id=\"xtick_4\">\n     <g id=\"line2d_4\">\n      <g>\n       <use style=\"stroke:#000000;stroke-width:0.8;\" x=\"148.898204\" xlink:href=\"#mc67c07683a\" y=\"227.673585\"/>\n      </g>\n     </g>\n     <g id=\"text_4\">\n      <!-- 75 -->\n      <defs>\n       <path d=\"M 8.203125 72.90625 \nL 55.078125 72.90625 \nL 55.078125 68.703125 \nL 28.609375 0 \nL 18.3125 0 \nL 43.21875 64.59375 \nL 8.203125 64.59375 \nz\n\" id=\"DejaVuSans-55\"/>\n      </defs>\n      <g transform=\"translate(142.535704 242.272022)scale(0.1 -0.1)\">\n       <use xlink:href=\"#DejaVuSans-55\"/>\n       <use x=\"63.623047\" xlink:href=\"#DejaVuSans-53\"/>\n      </g>\n     </g>\n    </g>\n    <g id=\"xtick_5\">\n     <g id=\"line2d_5\">\n      <g>\n       <use style=\"stroke:#000000;stroke-width:0.8;\" x=\"187.179894\" xlink:href=\"#mc67c07683a\" y=\"227.673585\"/>\n      </g>\n     </g>\n     <g id=\"text_5\">\n      <!-- 100 -->\n      <defs>\n       <path d=\"M 12.40625 8.296875 \nL 28.515625 8.296875 \nL 28.515625 63.921875 \nL 10.984375 60.40625 \nL 10.984375 69.390625 \nL 28.421875 72.90625 \nL 38.28125 72.90625 \nL 38.28125 8.296875 \nL 54.390625 8.296875 \nL 54.390625 0 \nL 12.40625 0 \nz\n\" id=\"DejaVuSans-49\"/>\n      </defs>\n      <g transform=\"translate(177.636144 242.272022)scale(0.1 -0.1)\">\n       <use xlink:href=\"#DejaVuSans-49\"/>\n       <use x=\"63.623047\" xlink:href=\"#DejaVuSans-48\"/>\n       <use x=\"127.246094\" xlink:href=\"#DejaVuSans-48\"/>\n      </g>\n     </g>\n    </g>\n   </g>\n   <g id=\"matplotlib.axis_2\">\n    <g id=\"ytick_1\">\n     <g id=\"line2d_6\">\n      <defs>\n       <path d=\"M 0 0 \nL -3.5 0 \n\" id=\"m24393441ab\" style=\"stroke:#000000;stroke-width:0.8;\"/>\n      </defs>\n      <g>\n       <use style=\"stroke:#000000;stroke-width:0.8;\" x=\"33.2875\" xlink:href=\"#m24393441ab\" y=\"10.999219\"/>\n      </g>\n     </g>\n     <g id=\"text_6\">\n      <!-- 0 -->\n      <g transform=\"translate(19.925 14.798437)scale(0.1 -0.1)\">\n       <use xlink:href=\"#DejaVuSans-48\"/>\n      </g>\n     </g>\n    </g>\n    <g id=\"ytick_2\">\n     <g id=\"line2d_7\">\n      <g>\n       <use style=\"stroke:#000000;stroke-width:0.8;\" x=\"33.2875\" xlink:href=\"#m24393441ab\" y=\"41.624571\"/>\n      </g>\n     </g>\n     <g id=\"text_7\">\n      <!-- 20 -->\n      <g transform=\"translate(13.5625 45.42379)scale(0.1 -0.1)\">\n       <use xlink:href=\"#DejaVuSans-50\"/>\n       <use x=\"63.623047\" xlink:href=\"#DejaVuSans-48\"/>\n      </g>\n     </g>\n    </g>\n    <g id=\"ytick_3\">\n     <g id=\"line2d_8\">\n      <g>\n       <use style=\"stroke:#000000;stroke-width:0.8;\" x=\"33.2875\" xlink:href=\"#m24393441ab\" y=\"72.249923\"/>\n      </g>\n     </g>\n     <g id=\"text_8\">\n      <!-- 40 -->\n      <defs>\n       <path d=\"M 37.796875 64.3125 \nL 12.890625 25.390625 \nL 37.796875 25.390625 \nz\nM 35.203125 72.90625 \nL 47.609375 72.90625 \nL 47.609375 25.390625 \nL 58.015625 25.390625 \nL 58.015625 17.1875 \nL 47.609375 17.1875 \nL 47.609375 0 \nL 37.796875 0 \nL 37.796875 17.1875 \nL 4.890625 17.1875 \nL 4.890625 26.703125 \nz\n\" id=\"DejaVuSans-52\"/>\n      </defs>\n      <g transform=\"translate(13.5625 76.049142)scale(0.1 -0.1)\">\n       <use xlink:href=\"#DejaVuSans-52\"/>\n       <use x=\"63.623047\" xlink:href=\"#DejaVuSans-48\"/>\n      </g>\n     </g>\n    </g>\n    <g id=\"ytick_4\">\n     <g id=\"line2d_9\">\n      <g>\n       <use style=\"stroke:#000000;stroke-width:0.8;\" x=\"33.2875\" xlink:href=\"#m24393441ab\" y=\"102.875275\"/>\n      </g>\n     </g>\n     <g id=\"text_9\">\n      <!-- 60 -->\n      <defs>\n       <path d=\"M 33.015625 40.375 \nQ 26.375 40.375 22.484375 35.828125 \nQ 18.609375 31.296875 18.609375 23.390625 \nQ 18.609375 15.53125 22.484375 10.953125 \nQ 26.375 6.390625 33.015625 6.390625 \nQ 39.65625 6.390625 43.53125 10.953125 \nQ 47.40625 15.53125 47.40625 23.390625 \nQ 47.40625 31.296875 43.53125 35.828125 \nQ 39.65625 40.375 33.015625 40.375 \nz\nM 52.59375 71.296875 \nL 52.59375 62.3125 \nQ 48.875 64.0625 45.09375 64.984375 \nQ 41.3125 65.921875 37.59375 65.921875 \nQ 27.828125 65.921875 22.671875 59.328125 \nQ 17.53125 52.734375 16.796875 39.40625 \nQ 19.671875 43.65625 24.015625 45.921875 \nQ 28.375 48.1875 33.59375 48.1875 \nQ 44.578125 48.1875 50.953125 41.515625 \nQ 57.328125 34.859375 57.328125 23.390625 \nQ 57.328125 12.15625 50.6875 5.359375 \nQ 44.046875 -1.421875 33.015625 -1.421875 \nQ 20.359375 -1.421875 13.671875 8.265625 \nQ 6.984375 17.96875 6.984375 36.375 \nQ 6.984375 53.65625 15.1875 63.9375 \nQ 23.390625 74.21875 37.203125 74.21875 \nQ 40.921875 74.21875 44.703125 73.484375 \nQ 48.484375 72.75 52.59375 71.296875 \nz\n\" id=\"DejaVuSans-54\"/>\n      </defs>\n      <g transform=\"translate(13.5625 106.674494)scale(0.1 -0.1)\">\n       <use xlink:href=\"#DejaVuSans-54\"/>\n       <use x=\"63.623047\" xlink:href=\"#DejaVuSans-48\"/>\n      </g>\n     </g>\n    </g>\n    <g id=\"ytick_5\">\n     <g id=\"line2d_10\">\n      <g>\n       <use style=\"stroke:#000000;stroke-width:0.8;\" x=\"33.2875\" xlink:href=\"#m24393441ab\" y=\"133.500627\"/>\n      </g>\n     </g>\n     <g id=\"text_10\">\n      <!-- 80 -->\n      <defs>\n       <path d=\"M 31.78125 34.625 \nQ 24.75 34.625 20.71875 30.859375 \nQ 16.703125 27.09375 16.703125 20.515625 \nQ 16.703125 13.921875 20.71875 10.15625 \nQ 24.75 6.390625 31.78125 6.390625 \nQ 38.8125 6.390625 42.859375 10.171875 \nQ 46.921875 13.96875 46.921875 20.515625 \nQ 46.921875 27.09375 42.890625 30.859375 \nQ 38.875 34.625 31.78125 34.625 \nz\nM 21.921875 38.8125 \nQ 15.578125 40.375 12.03125 44.71875 \nQ 8.5 49.078125 8.5 55.328125 \nQ 8.5 64.0625 14.71875 69.140625 \nQ 20.953125 74.21875 31.78125 74.21875 \nQ 42.671875 74.21875 48.875 69.140625 \nQ 55.078125 64.0625 55.078125 55.328125 \nQ 55.078125 49.078125 51.53125 44.71875 \nQ 48 40.375 41.703125 38.8125 \nQ 48.828125 37.15625 52.796875 32.3125 \nQ 56.78125 27.484375 56.78125 20.515625 \nQ 56.78125 9.90625 50.3125 4.234375 \nQ 43.84375 -1.421875 31.78125 -1.421875 \nQ 19.734375 -1.421875 13.25 4.234375 \nQ 6.78125 9.90625 6.78125 20.515625 \nQ 6.78125 27.484375 10.78125 32.3125 \nQ 14.796875 37.15625 21.921875 38.8125 \nz\nM 18.3125 54.390625 \nQ 18.3125 48.734375 21.84375 45.5625 \nQ 25.390625 42.390625 31.78125 42.390625 \nQ 38.140625 42.390625 41.71875 45.5625 \nQ 45.3125 48.734375 45.3125 54.390625 \nQ 45.3125 60.0625 41.71875 63.234375 \nQ 38.140625 66.40625 31.78125 66.40625 \nQ 25.390625 66.40625 21.84375 63.234375 \nQ 18.3125 60.0625 18.3125 54.390625 \nz\n\" id=\"DejaVuSans-56\"/>\n      </defs>\n      <g transform=\"translate(13.5625 137.299846)scale(0.1 -0.1)\">\n       <use xlink:href=\"#DejaVuSans-56\"/>\n       <use x=\"63.623047\" xlink:href=\"#DejaVuSans-48\"/>\n      </g>\n     </g>\n    </g>\n    <g id=\"ytick_6\">\n     <g id=\"line2d_11\">\n      <g>\n       <use style=\"stroke:#000000;stroke-width:0.8;\" x=\"33.2875\" xlink:href=\"#m24393441ab\" y=\"164.125979\"/>\n      </g>\n     </g>\n     <g id=\"text_11\">\n      <!-- 100 -->\n      <g transform=\"translate(7.2 167.925198)scale(0.1 -0.1)\">\n       <use xlink:href=\"#DejaVuSans-49\"/>\n       <use x=\"63.623047\" xlink:href=\"#DejaVuSans-48\"/>\n       <use x=\"127.246094\" xlink:href=\"#DejaVuSans-48\"/>\n      </g>\n     </g>\n    </g>\n    <g id=\"ytick_7\">\n     <g id=\"line2d_12\">\n      <g>\n       <use style=\"stroke:#000000;stroke-width:0.8;\" x=\"33.2875\" xlink:href=\"#m24393441ab\" y=\"194.751331\"/>\n      </g>\n     </g>\n     <g id=\"text_12\">\n      <!-- 120 -->\n      <g transform=\"translate(7.2 198.55055)scale(0.1 -0.1)\">\n       <use xlink:href=\"#DejaVuSans-49\"/>\n       <use x=\"63.623047\" xlink:href=\"#DejaVuSans-50\"/>\n       <use x=\"127.246094\" xlink:href=\"#DejaVuSans-48\"/>\n      </g>\n     </g>\n    </g>\n    <g id=\"ytick_8\">\n     <g id=\"line2d_13\">\n      <g>\n       <use style=\"stroke:#000000;stroke-width:0.8;\" x=\"33.2875\" xlink:href=\"#m24393441ab\" y=\"225.376684\"/>\n      </g>\n     </g>\n     <g id=\"text_13\">\n      <!-- 140 -->\n      <g transform=\"translate(7.2 229.175902)scale(0.1 -0.1)\">\n       <use xlink:href=\"#DejaVuSans-49\"/>\n       <use x=\"63.623047\" xlink:href=\"#DejaVuSans-52\"/>\n       <use x=\"127.246094\" xlink:href=\"#DejaVuSans-48\"/>\n      </g>\n     </g>\n    </g>\n   </g>\n   <g id=\"patch_3\">\n    <path d=\"M 33.2875 227.673585 \nL 33.2875 10.233585 \n\" style=\"fill:none;stroke:#000000;stroke-linecap:square;stroke-linejoin:miter;stroke-width:0.8;\"/>\n   </g>\n   <g id=\"patch_4\">\n    <path d=\"M 209.383275 227.673585 \nL 209.383275 10.233585 \n\" style=\"fill:none;stroke:#000000;stroke-linecap:square;stroke-linejoin:miter;stroke-width:0.8;\"/>\n   </g>\n   <g id=\"patch_5\">\n    <path d=\"M 33.2875 227.673585 \nL 209.383275 227.673585 \n\" style=\"fill:none;stroke:#000000;stroke-linecap:square;stroke-linejoin:miter;stroke-width:0.8;\"/>\n   </g>\n   <g id=\"patch_6\">\n    <path d=\"M 33.2875 10.233585 \nL 209.383275 10.233585 \n\" style=\"fill:none;stroke:#000000;stroke-linecap:square;stroke-linejoin:miter;stroke-width:0.8;\"/>\n   </g>\n  </g>\n </g>\n <defs>\n  <clipPath id=\"p8d7cb02b4f\">\n   <rect height=\"217.44\" width=\"176.095775\" x=\"33.2875\" y=\"10.233585\"/>\n  </clipPath>\n </defs>\n</svg>\n",
      "image/png": "[encoded data removed]"
     },
     "metadata": {
      "needs_background": "light"
     }
    }
   ],
   "source": [
    "plt.imshow(prediction, 'gray', interpolation='none')\n",
    "plt.imshow(ambi, 'jet', interpolation='none', alpha=0.7)\n",
    "plt.savefig('/home/dm1/shikhar/check_sandbox/testing_code/metrics/test.png')"
   ]
  },
  {
   "cell_type": "code",
   "execution_count": 54,
   "metadata": {},
   "outputs": [],
   "source": [
    "output = get_fast_pq(ambi, prediction)\n",
    "#def get_fast_pq(true, pred, match_iou=0.5):"
   ]
  },
  {
   "cell_type": "code",
   "execution_count": 55,
   "metadata": {},
   "outputs": [
    {
     "output_type": "execute_result",
     "data": {
      "text/plain": "array([[0.        , 0.        , 0.        , 0.        , 0.        ,\n        0.        , 0.        , 0.61513158, 0.        ],\n       [0.        , 0.        , 0.        , 0.        , 0.        ,\n        0.        , 0.        , 0.        , 0.43776824],\n       [0.        , 0.        , 0.        , 0.        , 0.        ,\n        0.        , 0.        , 0.        , 0.        ]])"
     },
     "metadata": {},
     "execution_count": 55
    }
   ],
   "source": [
    "output"
   ]
  },
  {
   "cell_type": "code",
   "execution_count": null,
   "metadata": {},
   "outputs": [],
   "source": []
  },
  {
   "cell_type": "code",
   "execution_count": 9,
   "metadata": {},
   "outputs": [],
   "source": [
    "pred = prediction\n",
    "true = ambi"
   ]
  },
  {
   "cell_type": "code",
   "execution_count": 10,
   "metadata": {},
   "outputs": [],
   "source": [
    "true = np.copy(true)\n",
    "pred = np.copy(pred)\n",
    "true_id_list = list(np.unique(true))\n",
    "pred_id_list = list(np.unique(pred))"
   ]
  },
  {
   "cell_type": "code",
   "execution_count": 11,
   "metadata": {},
   "outputs": [
    {
     "output_type": "execute_result",
     "data": {
      "text/plain": "[0, 1, 2, 3]"
     },
     "metadata": {},
     "execution_count": 11
    }
   ],
   "source": [
    "true_id_list"
   ]
  },
  {
   "cell_type": "code",
   "execution_count": 12,
   "metadata": {},
   "outputs": [
    {
     "output_type": "execute_result",
     "data": {
      "text/plain": "[0, 1, 2, 3, 4, 5, 6, 7, 8, 9]"
     },
     "metadata": {},
     "execution_count": 12
    }
   ],
   "source": [
    "pred_id_list"
   ]
  },
  {
   "cell_type": "code",
   "execution_count": 13,
   "metadata": {},
   "outputs": [
    {
     "output_type": "error",
     "ename": "TypeError",
     "evalue": "unsupported operand type(s) for -: 'list' and 'list'",
     "traceback": [
      "\u001b[0;31m---------------------------------------------------------------------------\u001b[0m",
      "\u001b[0;31mTypeError\u001b[0m                                 Traceback (most recent call last)",
      "\u001b[0;32m<ipython-input-13-8aca505f6b8c>\u001b[0m in \u001b[0;36m<module>\u001b[0;34m\u001b[0m\n\u001b[0;32m----> 1\u001b[0;31m \u001b[0mpred_id_list\u001b[0m \u001b[0;34m-\u001b[0m \u001b[0mtrue_id_list\u001b[0m\u001b[0;34m\u001b[0m\u001b[0;34m\u001b[0m\u001b[0m\n\u001b[0m",
      "\u001b[0;31mTypeError\u001b[0m: unsupported operand type(s) for -: 'list' and 'list'"
     ]
    }
   ],
   "source": [
    "list(set(pred_id_list - true_id_list"
   ]
  },
  {
   "cell_type": "code",
   "execution_count": 60,
   "metadata": {},
   "outputs": [],
   "source": [
    "true_masks = [None,]\n",
    "# Creating binary masks for connected components\n",
    "for t in true_id_list[1:]:\n",
    "    t_mask = np.array(true == t, np.uint8)\n",
    "    true_masks.append(t_mask) \n",
    "\n",
    "pred_masks = [None,]\n",
    "for p in pred_id_list[1:]:\n",
    "    p_mask = np.array(pred == p, np.uint8)\n",
    "    pred_masks.append(p_mask)"
   ]
  },
  {
   "cell_type": "code",
   "execution_count": 61,
   "metadata": {},
   "outputs": [
    {
     "output_type": "execute_result",
     "data": {
      "text/plain": "[None,\n array([[0, 0, 0, ..., 0, 0, 0],\n        [0, 0, 0, ..., 0, 0, 0],\n        [0, 0, 0, ..., 0, 0, 0],\n        ...,\n        [0, 0, 0, ..., 0, 0, 0],\n        [0, 0, 0, ..., 0, 0, 0],\n        [0, 0, 0, ..., 0, 0, 0]], dtype=uint8),\n array([[0, 0, 0, ..., 0, 0, 0],\n        [0, 0, 0, ..., 0, 0, 0],\n        [0, 0, 0, ..., 0, 0, 0],\n        ...,\n        [0, 0, 0, ..., 0, 0, 0],\n        [0, 0, 0, ..., 0, 0, 0],\n        [0, 0, 0, ..., 0, 0, 0]], dtype=uint8),\n array([[0, 0, 0, ..., 0, 0, 0],\n        [0, 0, 0, ..., 0, 0, 0],\n        [0, 0, 0, ..., 0, 0, 0],\n        ...,\n        [0, 0, 0, ..., 0, 0, 0],\n        [0, 0, 0, ..., 0, 0, 0],\n        [0, 0, 0, ..., 0, 0, 0]], dtype=uint8)]"
     },
     "metadata": {},
     "execution_count": 61
    }
   ],
   "source": [
    "true_masks"
   ]
  },
  {
   "cell_type": "markdown",
   "metadata": {},
   "source": [
    "Testing"
   ]
  },
  {
   "cell_type": "markdown",
   "metadata": {},
   "source": [
    "a = true_masks[1]"
   ]
  },
  {
   "cell_type": "markdown",
   "metadata": {},
   "source": [
    "a.shape"
   ]
  },
  {
   "cell_type": "markdown",
   "metadata": {},
   "source": [
    "np.unique(a, return_counts= True)"
   ]
  },
  {
   "cell_type": "markdown",
   "metadata": {},
   "source": [
    " b = pred_masks[8]"
   ]
  },
  {
   "cell_type": "code",
   "execution_count": 91,
   "metadata": {},
   "outputs": [
    {
     "output_type": "execute_result",
     "data": {
      "text/plain": "(142, 115)"
     },
     "metadata": {},
     "execution_count": 91
    }
   ],
   "source": [
    "b.shape"
   ]
  },
  {
   "cell_type": "code",
   "execution_count": 92,
   "metadata": {},
   "outputs": [
    {
     "output_type": "execute_result",
     "data": {
      "text/plain": "(array([0, 1], dtype=uint8), array([16121,   209]))"
     },
     "metadata": {},
     "execution_count": 92
    }
   ],
   "source": [
    "np.unique(b, return_counts= True)"
   ]
  },
  {
   "cell_type": "code",
   "execution_count": 93,
   "metadata": {},
   "outputs": [
    {
     "output_type": "execute_result",
     "data": {
      "text/plain": "(142, 115)"
     },
     "metadata": {},
     "execution_count": 93
    }
   ],
   "source": [
    "(a+b).shape"
   ]
  },
  {
   "cell_type": "code",
   "execution_count": 94,
   "metadata": {},
   "outputs": [
    {
     "output_type": "execute_result",
     "data": {
      "text/plain": "(array([0, 1, 2], dtype=uint8), array([16026,   117,   187]))"
     },
     "metadata": {},
     "execution_count": 94
    }
   ],
   "source": [
    "np.unique(a + b, return_counts = True)"
   ]
  },
  {
   "cell_type": "code",
   "execution_count": 95,
   "metadata": {},
   "outputs": [
    {
     "output_type": "execute_result",
     "data": {
      "text/plain": "(array([0, 1], dtype=uint8), array([16143,   187]))"
     },
     "metadata": {},
     "execution_count": 95
    }
   ],
   "source": [
    "np.unique(a * b, return_counts = True)"
   ]
  },
  {
   "cell_type": "code",
   "execution_count": 96,
   "metadata": {},
   "outputs": [
    {
     "output_type": "execute_result",
     "data": {
      "text/plain": "(142, 115)"
     },
     "metadata": {},
     "execution_count": 96
    }
   ],
   "source": [
    "(a * b).shape"
   ]
  },
  {
   "cell_type": "code",
   "execution_count": null,
   "metadata": {},
   "outputs": [],
   "source": []
  },
  {
   "cell_type": "markdown",
   "metadata": {},
   "source": [
    "Testing end"
   ]
  },
  {
   "cell_type": "code",
   "execution_count": 63,
   "metadata": {},
   "outputs": [],
   "source": [
    "# prefill with value\n",
    "# pairwise_iou: [true_id_list] * [pred_id_list]\n",
    "pairwise_iou = np.zeros([len(true_id_list) -1, \n",
    "                            len(pred_id_list) -1], dtype=np.float64)\n"
   ]
  },
  {
   "cell_type": "code",
   "execution_count": 64,
   "metadata": {},
   "outputs": [
    {
     "output_type": "execute_result",
     "data": {
      "text/plain": "array([[0., 0., 0., 0., 0., 0., 0., 0., 0.],\n       [0., 0., 0., 0., 0., 0., 0., 0., 0.],\n       [0., 0., 0., 0., 0., 0., 0., 0., 0.]])"
     },
     "metadata": {},
     "execution_count": 64
    }
   ],
   "source": [
    "pairwise_iou"
   ]
  },
  {
   "cell_type": "code",
   "execution_count": 70,
   "metadata": {},
   "outputs": [
    {
     "output_type": "stream",
     "name": "stdout",
     "text": "[0 0 0 0 0 0 0 0 0 0 0 0 0 0 0 0 0 0 0 8 8 8 8 0 0 0 0 0 0 0 8 8 8 8 8 8 8\n 0 0 0 0 0 8 8 8 8 8 8 8 8 8 8 8 8 0 0 0 0 0 8 8 8 8 8 8 8 8 8 8 8 8 8 0 0\n 0 0 0 8 8 8 8 8 8 8 8 8 0 8 8 8 8 8 0 0 0 0 8 8 8 8 8 8 8 8 8 0 0 8 8 8 8\n 8 0 0 0 8 8 8 8 8 8 8 8 8 8 8 8 8 8 8 8 0 0 0 8 8 8 8 8 8 8 8 8 8 8 8 8 8\n 8 8 0 0 0 8 8 8 8 8 8 8 8 8 8 8 8 8 8 8 8 0 0 0 8 8 8 8 8 8 8 8 8 8 8 8 8\n 8 8 0 0 0 8 8 8 8 8 8 8 8 8 8 8 8 8 8 0 0 0 0 8 8 8 8 8 8 8 8 8 8 8 8 8 0\n 0 0 8 8 8 8 8 8 8 8 8 8 8 8 0 0 0 8 8 8 8 8 8 0 0 0 0 0 0 0 0 0 8 8 8 8 8\n 8 8 0 0 0 0 0 0 8 8 8 8 8 8 0 0 0 8 8 0 0 0 0]\n[0 8]\n[0 0 0 0 0 0 0 0 0 0 0 0 0 0 0 0 0 0 0 0 0 0 9 9 9 9 9 0 0 0 0 0 0 0 9 9 9\n 9 9 9 9 0 0 0 0 0 0 0 9 9 9 9 9 9 9 0 0 0 0 0 0 0 0 9 9 9 9 9 9 9 9 0 0 0\n 0 0 9 0 0 0 0 9 9 9 9 9 9 0 0 0 0 0 0 9 0 0 0 0 9 9 9 9 9 9 0 0 0 0 0 9 9\n 0 9 0 0 9 9 9 9 9 9 0 0 0 0 0 9 9 9 9 0 0 9 9 9 9 9 9 0 0 0 0 0 9 9 9 9 0\n 0 9 9 9 9 9 9 0 0 0 0 0 0 9 9 9 9 9 9 9 9 9 9 9 0 0 0 0 0 0 9 9 9 9 9 9 9\n 9 9 9 0 0 0 0 0 9 9 9 9 9 9 9 9 0 0 0 0 0 0 0 0 9 0 9 9 0 0 0 0 0 0 0 0 0\n 0 0 0 0 0 0 0 0 0 0 0]\n[0 9]\n[0 0 0 0 0 0 0 0 0 0 0 0 0 0 0 0 0 0 0 0 0 0 0 0 0 0 0 0 0 0 0 0 0 0 0 0 0\n 0 0 0 0 0 0 0 0 0 0 0 0 0 0 0 0 0 0 0 0 0 0 0 0 0 0 0 0 0 0 0 0 0 0 0 0 0\n 0 0 0 0 0 0 0 0 0 0 0 0 0 0 0 0 0 0 0 0 0 0 0 0 0 0 0 0 0 0 0 0 0 0 0 0 0\n 0 0 0 0 0 0 0 0 0 0 0 0 0 0 0 0 0 0 0 0 0 0 0 0 0 0 0 0 0 0 0 0 0 0 0 0 0\n 0 0 0 0 0 0 0 0 0 0 0 0 0 0 0 0 0 0 0 0 0 0 0 0 0 0 0 0 0 0 0 0 0 0 0 0 0\n 0 0 0 0 0 0 0 0 0 0 0 0 0]\n[0]\n"
    }
   ],
   "source": [
    "# caching pairwise iou\n",
    "for true_id in true_id_list[1:]: # 0-th is background\n",
    "    t_mask = true_masks[true_id]\n",
    "    pred_true_overlap = pred[t_mask > 0]\n",
    "    print(pred_true_overlap)\n",
    "    pred_true_overlap_id = np.unique(pred_true_overlap)\n",
    "    print(pred_true_overlap_id)\n",
    "    pred_true_overlap_id = list(pred_true_overlap_id)\n",
    "    for pred_id in pred_true_overlap_id:\n",
    "        if pred_id == 0: # ignore\n",
    "            continue # overlaping background\n",
    "        p_mask = pred_masks[pred_id]\n",
    "        total = (t_mask + p_mask).sum()\n",
    "        inter = (t_mask * p_mask).sum()\n",
    "        iou = inter / (total - inter)\n",
    "        pairwise_iou[true_id-1, pred_id-1] = iou"
   ]
  },
  {
   "cell_type": "code",
   "execution_count": 72,
   "metadata": {},
   "outputs": [
    {
     "output_type": "execute_result",
     "data": {
      "text/plain": "array([[0.        , 0.        , 0.        , 0.        , 0.        ,\n        0.        , 0.        , 0.61513158, 0.        ],\n       [0.        , 0.        , 0.        , 0.        , 0.        ,\n        0.        , 0.        , 0.        , 0.43776824],\n       [0.        , 0.        , 0.        , 0.        , 0.        ,\n        0.        , 0.        , 0.        , 0.        ]])"
     },
     "metadata": {},
     "execution_count": 72
    }
   ],
   "source": [
    "pairwise_iou[true_id_list][pred_id_list]"
   ]
  },
  {
   "cell_type": "code",
   "execution_count": 103,
   "metadata": {},
   "outputs": [],
   "source": [
    "matched_regions = np.array(pairwise_iou >= match_iou, np.uint8)"
   ]
  },
  {
   "cell_type": "code",
   "execution_count": 105,
   "metadata": {},
   "outputs": [
    {
     "output_type": "execute_result",
     "data": {
      "text/plain": "array([[0, 0, 0, 0, 0, 0, 0, 1, 0],\n       [0, 0, 0, 0, 0, 0, 0, 0, 1],\n       [0, 0, 0, 0, 0, 0, 0, 0, 0]], dtype=uint8)"
     },
     "metadata": {},
     "execution_count": 105
    }
   ],
   "source": [
    "matched_regions"
   ]
  },
  {
   "cell_type": "code",
   "execution_count": 107,
   "metadata": {},
   "outputs": [],
   "source": [
    "matched_region_list = np.nonzero(matched_regions)[1]"
   ]
  },
  {
   "cell_type": "code",
   "execution_count": 108,
   "metadata": {},
   "outputs": [],
   "source": [
    "prediction_cleaned = prediction.copy()\n",
    "for id in matched_region_list:\n",
    "    region_id = id + 1\n",
    "    prediction_cleaned[prediction_cleaned == region_id] = 0"
   ]
  },
  {
   "cell_type": "code",
   "execution_count": 109,
   "metadata": {},
   "outputs": [
    {
     "output_type": "execute_result",
     "data": {
      "text/plain": "array([0, 1, 2, 3, 4, 5, 6, 7], dtype=int32)"
     },
     "metadata": {},
     "execution_count": 109
    }
   ],
   "source": [
    "np.unique(prediction_cleaned)"
   ]
  },
  {
   "cell_type": "code",
   "execution_count": 110,
   "metadata": {},
   "outputs": [
    {
     "output_type": "stream",
     "name": "stdout",
     "text": "[7 8]\n"
    }
   ],
   "source": [
    "print(matched_region_list)"
   ]
  },
  {
   "cell_type": "markdown",
   "metadata": {},
   "source": [
    "#### Collected script"
   ]
  },
  {
   "cell_type": "code",
   "execution_count": null,
   "metadata": {},
   "outputs": [],
   "source": [
    "# Format -> def get_fast_pq(true, pred, match_iou=0.5):\n",
    "match_iou = 0.4 # Modify parameter experimentally\n",
    "pairwise_iou = get_fast_pq(true = ambi, pred = prediction)\n",
    "matched_regions = np.array(pairwise_iou >= match_iou, np.uint8)\n",
    "matched_region_list = np.nonzero(matched_regions)[1]\n",
    "prediction_cleaned = prediction.copy()\n",
    "for id in matched_region_list:\n",
    "    region_id = id + 1\n",
    "    prediction_cleaned[prediction_cleaned == region_id] = 0\n"
   ]
  },
  {
   "cell_type": "code",
   "execution_count": 114,
   "metadata": {},
   "outputs": [
    {
     "output_type": "stream",
     "name": "stdout",
     "text": "[0 1 2 3 4 5 6 7 8 9]\n"
    },
    {
     "output_type": "display_data",
     "data": {
      "text/plain": "<Figure size 432x288 with 1 Axes>",
      "image/svg+xml": "<?xml version=\"1.0\" encoding=\"utf-8\" standalone=\"no\"?>\n<!DOCTYPE svg PUBLIC \"-//W3C//DTD SVG 1.1//EN\"\n  \"http://www.w3.org/Graphics/SVG/1.1/DTD/svg11.dtd\">\n<!-- Created with matplotlib (https://matplotlib.org/) -->\n<svg height=\"251.55171pt\" version=\"1.1\" viewBox=\"0 0 216.583275 251.55171\" width=\"216.583275pt\" xmlns=\"http://www.w3.org/2000/svg\" xmlns:xlink=\"http://www.w3.org/1999/xlink\">\n <defs>\n  <style type=\"text/css\">\n*{stroke-linecap:butt;stroke-linejoin:round;}\n  </style>\n </defs>\n <g id=\"figure_1\">\n  <g id=\"patch_1\">\n   <path d=\"M 0 251.55171 \nL 216.583275 251.55171 \nL 216.583275 0 \nL 0 0 \nz\n\" style=\"fill:none;\"/>\n  </g>\n  <g id=\"axes_1\">\n   <g id=\"patch_2\">\n    <path d=\"M 33.2875 227.673585 \nL 209.383275 227.673585 \nL 209.383275 10.233585 \nL 33.2875 10.233585 \nz\n\" style=\"fill:#ffffff;\"/>\n   </g>\n   <g clip-path=\"url(#pbd1b37f42f)\">\n    <image height=\"218\" id=\"image898fc4282a\" transform=\"scale(1 -1)translate(0 -218)\" width=\"177\" x=\"33.2875\" xlink:href=\"data:image/png;base64,\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\" y=\"-9.673585\"/>\n   </g>\n   <g id=\"matplotlib.axis_1\">\n    <g id=\"xtick_1\">\n     <g id=\"line2d_1\">\n      <defs>\n       <path d=\"M 0 0 \nL 0 3.5 \n\" id=\"m18ecdd7391\" style=\"stroke:#000000;stroke-width:0.8;\"/>\n      </defs>\n      <g>\n       <use style=\"stroke:#000000;stroke-width:0.8;\" x=\"34.053134\" xlink:href=\"#m18ecdd7391\" y=\"227.673585\"/>\n      </g>\n     </g>\n     <g id=\"text_1\">\n      <!-- 0 -->\n      <defs>\n       <path d=\"M 31.78125 66.40625 \nQ 24.171875 66.40625 20.328125 58.90625 \nQ 16.5 51.421875 16.5 36.375 \nQ 16.5 21.390625 20.328125 13.890625 \nQ 24.171875 6.390625 31.78125 6.390625 \nQ 39.453125 6.390625 43.28125 13.890625 \nQ 47.125 21.390625 47.125 36.375 \nQ 47.125 51.421875 43.28125 58.90625 \nQ 39.453125 66.40625 31.78125 66.40625 \nz\nM 31.78125 74.21875 \nQ 44.046875 74.21875 50.515625 64.515625 \nQ 56.984375 54.828125 56.984375 36.375 \nQ 56.984375 17.96875 50.515625 8.265625 \nQ 44.046875 -1.421875 31.78125 -1.421875 \nQ 19.53125 -1.421875 13.0625 8.265625 \nQ 6.59375 17.96875 6.59375 36.375 \nQ 6.59375 54.828125 13.0625 64.515625 \nQ 19.53125 74.21875 31.78125 74.21875 \nz\n\" id=\"DejaVuSans-48\"/>\n      </defs>\n      <g transform=\"translate(30.871884 242.272022)scale(0.1 -0.1)\">\n       <use xlink:href=\"#DejaVuSans-48\"/>\n      </g>\n     </g>\n    </g>\n    <g id=\"xtick_2\">\n     <g id=\"line2d_2\">\n      <g>\n       <use style=\"stroke:#000000;stroke-width:0.8;\" x=\"72.334824\" xlink:href=\"#m18ecdd7391\" y=\"227.673585\"/>\n      </g>\n     </g>\n     <g id=\"text_2\">\n      <!-- 25 -->\n      <defs>\n       <path d=\"M 19.1875 8.296875 \nL 53.609375 8.296875 \nL 53.609375 0 \nL 7.328125 0 \nL 7.328125 8.296875 \nQ 12.9375 14.109375 22.625 23.890625 \nQ 32.328125 33.6875 34.8125 36.53125 \nQ 39.546875 41.84375 41.421875 45.53125 \nQ 43.3125 49.21875 43.3125 52.78125 \nQ 43.3125 58.59375 39.234375 62.25 \nQ 35.15625 65.921875 28.609375 65.921875 \nQ 23.96875 65.921875 18.8125 64.3125 \nQ 13.671875 62.703125 7.8125 59.421875 \nL 7.8125 69.390625 \nQ 13.765625 71.78125 18.9375 73 \nQ 24.125 74.21875 28.421875 74.21875 \nQ 39.75 74.21875 46.484375 68.546875 \nQ 53.21875 62.890625 53.21875 53.421875 \nQ 53.21875 48.921875 51.53125 44.890625 \nQ 49.859375 40.875 45.40625 35.40625 \nQ 44.1875 33.984375 37.640625 27.21875 \nQ 31.109375 20.453125 19.1875 8.296875 \nz\n\" id=\"DejaVuSans-50\"/>\n       <path d=\"M 10.796875 72.90625 \nL 49.515625 72.90625 \nL 49.515625 64.59375 \nL 19.828125 64.59375 \nL 19.828125 46.734375 \nQ 21.96875 47.46875 24.109375 47.828125 \nQ 26.265625 48.1875 28.421875 48.1875 \nQ 40.625 48.1875 47.75 41.5 \nQ 54.890625 34.8125 54.890625 23.390625 \nQ 54.890625 11.625 47.5625 5.09375 \nQ 40.234375 -1.421875 26.90625 -1.421875 \nQ 22.3125 -1.421875 17.546875 -0.640625 \nQ 12.796875 0.140625 7.71875 1.703125 \nL 7.71875 11.625 \nQ 12.109375 9.234375 16.796875 8.0625 \nQ 21.484375 6.890625 26.703125 6.890625 \nQ 35.15625 6.890625 40.078125 11.328125 \nQ 45.015625 15.765625 45.015625 23.390625 \nQ 45.015625 31 40.078125 35.4375 \nQ 35.15625 39.890625 26.703125 39.890625 \nQ 22.75 39.890625 18.8125 39.015625 \nQ 14.890625 38.140625 10.796875 36.28125 \nz\n\" id=\"DejaVuSans-53\"/>\n      </defs>\n      <g transform=\"translate(65.972324 242.272022)scale(0.1 -0.1)\">\n       <use xlink:href=\"#DejaVuSans-50\"/>\n       <use x=\"63.623047\" xlink:href=\"#DejaVuSans-53\"/>\n      </g>\n     </g>\n    </g>\n    <g id=\"xtick_3\">\n     <g id=\"line2d_3\">\n      <g>\n       <use style=\"stroke:#000000;stroke-width:0.8;\" x=\"110.616514\" xlink:href=\"#m18ecdd7391\" y=\"227.673585\"/>\n      </g>\n     </g>\n     <g id=\"text_3\">\n      <!-- 50 -->\n      <g transform=\"translate(104.254014 242.272022)scale(0.1 -0.1)\">\n       <use xlink:href=\"#DejaVuSans-53\"/>\n       <use x=\"63.623047\" xlink:href=\"#DejaVuSans-48\"/>\n      </g>\n     </g>\n    </g>\n    <g id=\"xtick_4\">\n     <g id=\"line2d_4\">\n      <g>\n       <use style=\"stroke:#000000;stroke-width:0.8;\" x=\"148.898204\" xlink:href=\"#m18ecdd7391\" y=\"227.673585\"/>\n      </g>\n     </g>\n     <g id=\"text_4\">\n      <!-- 75 -->\n      <defs>\n       <path d=\"M 8.203125 72.90625 \nL 55.078125 72.90625 \nL 55.078125 68.703125 \nL 28.609375 0 \nL 18.3125 0 \nL 43.21875 64.59375 \nL 8.203125 64.59375 \nz\n\" id=\"DejaVuSans-55\"/>\n      </defs>\n      <g transform=\"translate(142.535704 242.272022)scale(0.1 -0.1)\">\n       <use xlink:href=\"#DejaVuSans-55\"/>\n       <use x=\"63.623047\" xlink:href=\"#DejaVuSans-53\"/>\n      </g>\n     </g>\n    </g>\n    <g id=\"xtick_5\">\n     <g id=\"line2d_5\">\n      <g>\n       <use style=\"stroke:#000000;stroke-width:0.8;\" x=\"187.179894\" xlink:href=\"#m18ecdd7391\" y=\"227.673585\"/>\n      </g>\n     </g>\n     <g id=\"text_5\">\n      <!-- 100 -->\n      <defs>\n       <path d=\"M 12.40625 8.296875 \nL 28.515625 8.296875 \nL 28.515625 63.921875 \nL 10.984375 60.40625 \nL 10.984375 69.390625 \nL 28.421875 72.90625 \nL 38.28125 72.90625 \nL 38.28125 8.296875 \nL 54.390625 8.296875 \nL 54.390625 0 \nL 12.40625 0 \nz\n\" id=\"DejaVuSans-49\"/>\n      </defs>\n      <g transform=\"translate(177.636144 242.272022)scale(0.1 -0.1)\">\n       <use xlink:href=\"#DejaVuSans-49\"/>\n       <use x=\"63.623047\" xlink:href=\"#DejaVuSans-48\"/>\n       <use x=\"127.246094\" xlink:href=\"#DejaVuSans-48\"/>\n      </g>\n     </g>\n    </g>\n   </g>\n   <g id=\"matplotlib.axis_2\">\n    <g id=\"ytick_1\">\n     <g id=\"line2d_6\">\n      <defs>\n       <path d=\"M 0 0 \nL -3.5 0 \n\" id=\"m791f3d8622\" style=\"stroke:#000000;stroke-width:0.8;\"/>\n      </defs>\n      <g>\n       <use style=\"stroke:#000000;stroke-width:0.8;\" x=\"33.2875\" xlink:href=\"#m791f3d8622\" y=\"10.999219\"/>\n      </g>\n     </g>\n     <g id=\"text_6\">\n      <!-- 0 -->\n      <g transform=\"translate(19.925 14.798437)scale(0.1 -0.1)\">\n       <use xlink:href=\"#DejaVuSans-48\"/>\n      </g>\n     </g>\n    </g>\n    <g id=\"ytick_2\">\n     <g id=\"line2d_7\">\n      <g>\n       <use style=\"stroke:#000000;stroke-width:0.8;\" x=\"33.2875\" xlink:href=\"#m791f3d8622\" y=\"41.624571\"/>\n      </g>\n     </g>\n     <g id=\"text_7\">\n      <!-- 20 -->\n      <g transform=\"translate(13.5625 45.42379)scale(0.1 -0.1)\">\n       <use xlink:href=\"#DejaVuSans-50\"/>\n       <use x=\"63.623047\" xlink:href=\"#DejaVuSans-48\"/>\n      </g>\n     </g>\n    </g>\n    <g id=\"ytick_3\">\n     <g id=\"line2d_8\">\n      <g>\n       <use style=\"stroke:#000000;stroke-width:0.8;\" x=\"33.2875\" xlink:href=\"#m791f3d8622\" y=\"72.249923\"/>\n      </g>\n     </g>\n     <g id=\"text_8\">\n      <!-- 40 -->\n      <defs>\n       <path d=\"M 37.796875 64.3125 \nL 12.890625 25.390625 \nL 37.796875 25.390625 \nz\nM 35.203125 72.90625 \nL 47.609375 72.90625 \nL 47.609375 25.390625 \nL 58.015625 25.390625 \nL 58.015625 17.1875 \nL 47.609375 17.1875 \nL 47.609375 0 \nL 37.796875 0 \nL 37.796875 17.1875 \nL 4.890625 17.1875 \nL 4.890625 26.703125 \nz\n\" id=\"DejaVuSans-52\"/>\n      </defs>\n      <g transform=\"translate(13.5625 76.049142)scale(0.1 -0.1)\">\n       <use xlink:href=\"#DejaVuSans-52\"/>\n       <use x=\"63.623047\" xlink:href=\"#DejaVuSans-48\"/>\n      </g>\n     </g>\n    </g>\n    <g id=\"ytick_4\">\n     <g id=\"line2d_9\">\n      <g>\n       <use style=\"stroke:#000000;stroke-width:0.8;\" x=\"33.2875\" xlink:href=\"#m791f3d8622\" y=\"102.875275\"/>\n      </g>\n     </g>\n     <g id=\"text_9\">\n      <!-- 60 -->\n      <defs>\n       <path d=\"M 33.015625 40.375 \nQ 26.375 40.375 22.484375 35.828125 \nQ 18.609375 31.296875 18.609375 23.390625 \nQ 18.609375 15.53125 22.484375 10.953125 \nQ 26.375 6.390625 33.015625 6.390625 \nQ 39.65625 6.390625 43.53125 10.953125 \nQ 47.40625 15.53125 47.40625 23.390625 \nQ 47.40625 31.296875 43.53125 35.828125 \nQ 39.65625 40.375 33.015625 40.375 \nz\nM 52.59375 71.296875 \nL 52.59375 62.3125 \nQ 48.875 64.0625 45.09375 64.984375 \nQ 41.3125 65.921875 37.59375 65.921875 \nQ 27.828125 65.921875 22.671875 59.328125 \nQ 17.53125 52.734375 16.796875 39.40625 \nQ 19.671875 43.65625 24.015625 45.921875 \nQ 28.375 48.1875 33.59375 48.1875 \nQ 44.578125 48.1875 50.953125 41.515625 \nQ 57.328125 34.859375 57.328125 23.390625 \nQ 57.328125 12.15625 50.6875 5.359375 \nQ 44.046875 -1.421875 33.015625 -1.421875 \nQ 20.359375 -1.421875 13.671875 8.265625 \nQ 6.984375 17.96875 6.984375 36.375 \nQ 6.984375 53.65625 15.1875 63.9375 \nQ 23.390625 74.21875 37.203125 74.21875 \nQ 40.921875 74.21875 44.703125 73.484375 \nQ 48.484375 72.75 52.59375 71.296875 \nz\n\" id=\"DejaVuSans-54\"/>\n      </defs>\n      <g transform=\"translate(13.5625 106.674494)scale(0.1 -0.1)\">\n       <use xlink:href=\"#DejaVuSans-54\"/>\n       <use x=\"63.623047\" xlink:href=\"#DejaVuSans-48\"/>\n      </g>\n     </g>\n    </g>\n    <g id=\"ytick_5\">\n     <g id=\"line2d_10\">\n      <g>\n       <use style=\"stroke:#000000;stroke-width:0.8;\" x=\"33.2875\" xlink:href=\"#m791f3d8622\" y=\"133.500627\"/>\n      </g>\n     </g>\n     <g id=\"text_10\">\n      <!-- 80 -->\n      <defs>\n       <path d=\"M 31.78125 34.625 \nQ 24.75 34.625 20.71875 30.859375 \nQ 16.703125 27.09375 16.703125 20.515625 \nQ 16.703125 13.921875 20.71875 10.15625 \nQ 24.75 6.390625 31.78125 6.390625 \nQ 38.8125 6.390625 42.859375 10.171875 \nQ 46.921875 13.96875 46.921875 20.515625 \nQ 46.921875 27.09375 42.890625 30.859375 \nQ 38.875 34.625 31.78125 34.625 \nz\nM 21.921875 38.8125 \nQ 15.578125 40.375 12.03125 44.71875 \nQ 8.5 49.078125 8.5 55.328125 \nQ 8.5 64.0625 14.71875 69.140625 \nQ 20.953125 74.21875 31.78125 74.21875 \nQ 42.671875 74.21875 48.875 69.140625 \nQ 55.078125 64.0625 55.078125 55.328125 \nQ 55.078125 49.078125 51.53125 44.71875 \nQ 48 40.375 41.703125 38.8125 \nQ 48.828125 37.15625 52.796875 32.3125 \nQ 56.78125 27.484375 56.78125 20.515625 \nQ 56.78125 9.90625 50.3125 4.234375 \nQ 43.84375 -1.421875 31.78125 -1.421875 \nQ 19.734375 -1.421875 13.25 4.234375 \nQ 6.78125 9.90625 6.78125 20.515625 \nQ 6.78125 27.484375 10.78125 32.3125 \nQ 14.796875 37.15625 21.921875 38.8125 \nz\nM 18.3125 54.390625 \nQ 18.3125 48.734375 21.84375 45.5625 \nQ 25.390625 42.390625 31.78125 42.390625 \nQ 38.140625 42.390625 41.71875 45.5625 \nQ 45.3125 48.734375 45.3125 54.390625 \nQ 45.3125 60.0625 41.71875 63.234375 \nQ 38.140625 66.40625 31.78125 66.40625 \nQ 25.390625 66.40625 21.84375 63.234375 \nQ 18.3125 60.0625 18.3125 54.390625 \nz\n\" id=\"DejaVuSans-56\"/>\n      </defs>\n      <g transform=\"translate(13.5625 137.299846)scale(0.1 -0.1)\">\n       <use xlink:href=\"#DejaVuSans-56\"/>\n       <use x=\"63.623047\" xlink:href=\"#DejaVuSans-48\"/>\n      </g>\n     </g>\n    </g>\n    <g id=\"ytick_6\">\n     <g id=\"line2d_11\">\n      <g>\n       <use style=\"stroke:#000000;stroke-width:0.8;\" x=\"33.2875\" xlink:href=\"#m791f3d8622\" y=\"164.125979\"/>\n      </g>\n     </g>\n     <g id=\"text_11\">\n      <!-- 100 -->\n      <g transform=\"translate(7.2 167.925198)scale(0.1 -0.1)\">\n       <use xlink:href=\"#DejaVuSans-49\"/>\n       <use x=\"63.623047\" xlink:href=\"#DejaVuSans-48\"/>\n       <use x=\"127.246094\" xlink:href=\"#DejaVuSans-48\"/>\n      </g>\n     </g>\n    </g>\n    <g id=\"ytick_7\">\n     <g id=\"line2d_12\">\n      <g>\n       <use style=\"stroke:#000000;stroke-width:0.8;\" x=\"33.2875\" xlink:href=\"#m791f3d8622\" y=\"194.751331\"/>\n      </g>\n     </g>\n     <g id=\"text_12\">\n      <!-- 120 -->\n      <g transform=\"translate(7.2 198.55055)scale(0.1 -0.1)\">\n       <use xlink:href=\"#DejaVuSans-49\"/>\n       <use x=\"63.623047\" xlink:href=\"#DejaVuSans-50\"/>\n       <use x=\"127.246094\" xlink:href=\"#DejaVuSans-48\"/>\n      </g>\n     </g>\n    </g>\n    <g id=\"ytick_8\">\n     <g id=\"line2d_13\">\n      <g>\n       <use style=\"stroke:#000000;stroke-width:0.8;\" x=\"33.2875\" xlink:href=\"#m791f3d8622\" y=\"225.376684\"/>\n      </g>\n     </g>\n     <g id=\"text_13\">\n      <!-- 140 -->\n      <g transform=\"translate(7.2 229.175902)scale(0.1 -0.1)\">\n       <use xlink:href=\"#DejaVuSans-49\"/>\n       <use x=\"63.623047\" xlink:href=\"#DejaVuSans-52\"/>\n       <use x=\"127.246094\" xlink:href=\"#DejaVuSans-48\"/>\n      </g>\n     </g>\n    </g>\n   </g>\n   <g id=\"patch_3\">\n    <path d=\"M 33.2875 227.673585 \nL 33.2875 10.233585 \n\" style=\"fill:none;stroke:#000000;stroke-linecap:square;stroke-linejoin:miter;stroke-width:0.8;\"/>\n   </g>\n   <g id=\"patch_4\">\n    <path d=\"M 209.383275 227.673585 \nL 209.383275 10.233585 \n\" style=\"fill:none;stroke:#000000;stroke-linecap:square;stroke-linejoin:miter;stroke-width:0.8;\"/>\n   </g>\n   <g id=\"patch_5\">\n    <path d=\"M 33.2875 227.673585 \nL 209.383275 227.673585 \n\" style=\"fill:none;stroke:#000000;stroke-linecap:square;stroke-linejoin:miter;stroke-width:0.8;\"/>\n   </g>\n   <g id=\"patch_6\">\n    <path d=\"M 33.2875 10.233585 \nL 209.383275 10.233585 \n\" style=\"fill:none;stroke:#000000;stroke-linecap:square;stroke-linejoin:miter;stroke-width:0.8;\"/>\n   </g>\n  </g>\n </g>\n <defs>\n  <clipPath id=\"pbd1b37f42f\">\n   <rect height=\"217.44\" width=\"176.095775\" x=\"33.2875\" y=\"10.233585\"/>\n  </clipPath>\n </defs>\n</svg>\n",
      "image/png": "[encoded data removed]"
     },
     "metadata": {
      "needs_background": "light"
     }
    },
    {
     "output_type": "display_data",
     "data": {
      "text/plain": "<Figure size 432x288 with 1 Axes>",
      "image/svg+xml": "<?xml version=\"1.0\" encoding=\"utf-8\" standalone=\"no\"?>\n<!DOCTYPE svg PUBLIC \"-//W3C//DTD SVG 1.1//EN\"\n  \"http://www.w3.org/Graphics/SVG/1.1/DTD/svg11.dtd\">\n<!-- Created with matplotlib (https://matplotlib.org/) -->\n<svg height=\"251.55171pt\" version=\"1.1\" viewBox=\"0 0 216.583275 251.55171\" width=\"216.583275pt\" xmlns=\"http://www.w3.org/2000/svg\" xmlns:xlink=\"http://www.w3.org/1999/xlink\">\n <defs>\n  <style type=\"text/css\">\n*{stroke-linecap:butt;stroke-linejoin:round;}\n  </style>\n </defs>\n <g id=\"figure_1\">\n  <g id=\"patch_1\">\n   <path d=\"M 0 251.55171 \nL 216.583275 251.55171 \nL 216.583275 0 \nL 0 0 \nz\n\" style=\"fill:none;\"/>\n  </g>\n  <g id=\"axes_1\">\n   <g id=\"patch_2\">\n    <path d=\"M 33.2875 227.673585 \nL 209.383275 227.673585 \nL 209.383275 10.233585 \nL 33.2875 10.233585 \nz\n\" style=\"fill:#ffffff;\"/>\n   </g>\n   <g clip-path=\"url(#p924d3f59ab)\">\n    <image height=\"218\" id=\"imagee76a8dedda\" transform=\"scale(1 -1)translate(0 -218)\" width=\"177\" x=\"33.2875\" xlink:href=\"data:image/png;base64,\niVBORw0KGgoAAAANSUhEUgAAALEAAADaCAYAAADpGqNcAAAABHNCSVQICAgIfAhkiAAAA55JREFUeJzt2zFO22AYgOGkYmfp1LkHYO2OhMTMGXqoHqQSJ+jKAZiZuvQEdKJyUBOSYMd5zfNsSBb6hzdfvtjJ+np997ziw7p/etj4++bL1V7X7rru1D7NfQB4r4u5D8B5eT2ZD71ujgktYkY1x8phnSBPxExm39XkvUT8wU39ln//9DB5zCImT8ScxJTTWMTkiZi8tcfOvDjV3YSxP0yaxPxzTt+HOISIyRMxG26+XOUmsoj5r1LIIiZPxGxVWS18FZM3DUM+1W24Q5jE5JnEHORlKh8zkadaTUTMUbYFOcfPlqwT5JnEjGqOuxkmMXkiJk/E5ImYPBGTJ2LyREyeiMkTMXkiJk/E5ImYPBGTJ2LyREyeiMkTMXkiJk/E5ImYPBGTJ2LyREyeiMkTMXkiJk/E5ImYPBGTJ2LyREyeiMkTMXkiJk/E5ImYPBGTJ2LyREyeiMkTMXkiJk/E5ImYPBGTJ2LyREyeiMkTMXkiJk/E5ImYPBGTJ2LyREyeiMkTMXkiJk/E5ImYPBGTJ2LyREyeiMkTMXkiJk/E5ImYPBGTJ2LyLuY+AOP78/Prm9dc3j6e4CSnIeIF2SfeXddWw7ZOkCfihThkCk/5P+ZgnWDDMOTKemESk2cSx1VXgDGJmK1ev0DOdb2wTpAnYvJETJ6IyRMxeSImT8TkiZg8EZMn4rjL28ezfZJ2Kh4786Zzf5GYxOSJeCGmmJaVVUXEC1KJbmwiJs8HOzYUJ7lJvEDHrhXFgFcrEbMA1okFq07WQ5nE5ImYPBGTJ2LyREyeiMkTMXkiJk/E5ImYPBGTJ2LyREyeiMkTMXkiJk/E5ImYPBGTJ2LyREyeiMkTMXkiJk/E5ImYPBGTJ2LyREyeiMkTMXkiJk/E5ImYPBGTJ2LyREyeiMkTMXkiJk/E5ImYPBGTJ2LyREyeiMkTMXkiJk/E5ImYPBGTJ2LyREyeiMkTMXkiJk/E5F3MfYAp/f7+ba/rPv/4NfFJmJJJTN76en33PPchxrTv9H3NNO5aRMTHhruNoFusE+TlJ/HYU3jIRG4wickTMXki3mHKVYXxZHfiUwdmPz5fJjF5IiYvGbFdlaFkxDAkYvJETJ6IyRMxeSImT8TkJSP2CJihZMQwtOhfO4/B1D9/JvEOAm4QMXnZ7xO/8Etn8hGvVuOELN4u6wR5i5jE2wwntEm7XIuOmI/BOkGeiMkTMXkiJk/E5ImYPBGTJ2LyREyeiMn7C7ELfeJAlJ+NAAAAAElFTkSuQmCC\" y=\"-9.673585\"/>\n   </g>\n   <g id=\"matplotlib.axis_1\">\n    <g id=\"xtick_1\">\n     <g id=\"line2d_1\">\n      <defs>\n       <path d=\"M 0 0 \nL 0 3.5 \n\" id=\"m6fdd4a7e87\" style=\"stroke:#000000;stroke-width:0.8;\"/>\n      </defs>\n      <g>\n       <use style=\"stroke:#000000;stroke-width:0.8;\" x=\"34.053134\" xlink:href=\"#m6fdd4a7e87\" y=\"227.673585\"/>\n      </g>\n     </g>\n     <g id=\"text_1\">\n      <!-- 0 -->\n      <defs>\n       <path d=\"M 31.78125 66.40625 \nQ 24.171875 66.40625 20.328125 58.90625 \nQ 16.5 51.421875 16.5 36.375 \nQ 16.5 21.390625 20.328125 13.890625 \nQ 24.171875 6.390625 31.78125 6.390625 \nQ 39.453125 6.390625 43.28125 13.890625 \nQ 47.125 21.390625 47.125 36.375 \nQ 47.125 51.421875 43.28125 58.90625 \nQ 39.453125 66.40625 31.78125 66.40625 \nz\nM 31.78125 74.21875 \nQ 44.046875 74.21875 50.515625 64.515625 \nQ 56.984375 54.828125 56.984375 36.375 \nQ 56.984375 17.96875 50.515625 8.265625 \nQ 44.046875 -1.421875 31.78125 -1.421875 \nQ 19.53125 -1.421875 13.0625 8.265625 \nQ 6.59375 17.96875 6.59375 36.375 \nQ 6.59375 54.828125 13.0625 64.515625 \nQ 19.53125 74.21875 31.78125 74.21875 \nz\n\" id=\"DejaVuSans-48\"/>\n      </defs>\n      <g transform=\"translate(30.871884 242.272022)scale(0.1 -0.1)\">\n       <use xlink:href=\"#DejaVuSans-48\"/>\n      </g>\n     </g>\n    </g>\n    <g id=\"xtick_2\">\n     <g id=\"line2d_2\">\n      <g>\n       <use style=\"stroke:#000000;stroke-width:0.8;\" x=\"72.334824\" xlink:href=\"#m6fdd4a7e87\" y=\"227.673585\"/>\n      </g>\n     </g>\n     <g id=\"text_2\">\n      <!-- 25 -->\n      <defs>\n       <path d=\"M 19.1875 8.296875 \nL 53.609375 8.296875 \nL 53.609375 0 \nL 7.328125 0 \nL 7.328125 8.296875 \nQ 12.9375 14.109375 22.625 23.890625 \nQ 32.328125 33.6875 34.8125 36.53125 \nQ 39.546875 41.84375 41.421875 45.53125 \nQ 43.3125 49.21875 43.3125 52.78125 \nQ 43.3125 58.59375 39.234375 62.25 \nQ 35.15625 65.921875 28.609375 65.921875 \nQ 23.96875 65.921875 18.8125 64.3125 \nQ 13.671875 62.703125 7.8125 59.421875 \nL 7.8125 69.390625 \nQ 13.765625 71.78125 18.9375 73 \nQ 24.125 74.21875 28.421875 74.21875 \nQ 39.75 74.21875 46.484375 68.546875 \nQ 53.21875 62.890625 53.21875 53.421875 \nQ 53.21875 48.921875 51.53125 44.890625 \nQ 49.859375 40.875 45.40625 35.40625 \nQ 44.1875 33.984375 37.640625 27.21875 \nQ 31.109375 20.453125 19.1875 8.296875 \nz\n\" id=\"DejaVuSans-50\"/>\n       <path d=\"M 10.796875 72.90625 \nL 49.515625 72.90625 \nL 49.515625 64.59375 \nL 19.828125 64.59375 \nL 19.828125 46.734375 \nQ 21.96875 47.46875 24.109375 47.828125 \nQ 26.265625 48.1875 28.421875 48.1875 \nQ 40.625 48.1875 47.75 41.5 \nQ 54.890625 34.8125 54.890625 23.390625 \nQ 54.890625 11.625 47.5625 5.09375 \nQ 40.234375 -1.421875 26.90625 -1.421875 \nQ 22.3125 -1.421875 17.546875 -0.640625 \nQ 12.796875 0.140625 7.71875 1.703125 \nL 7.71875 11.625 \nQ 12.109375 9.234375 16.796875 8.0625 \nQ 21.484375 6.890625 26.703125 6.890625 \nQ 35.15625 6.890625 40.078125 11.328125 \nQ 45.015625 15.765625 45.015625 23.390625 \nQ 45.015625 31 40.078125 35.4375 \nQ 35.15625 39.890625 26.703125 39.890625 \nQ 22.75 39.890625 18.8125 39.015625 \nQ 14.890625 38.140625 10.796875 36.28125 \nz\n\" id=\"DejaVuSans-53\"/>\n      </defs>\n      <g transform=\"translate(65.972324 242.272022)scale(0.1 -0.1)\">\n       <use xlink:href=\"#DejaVuSans-50\"/>\n       <use x=\"63.623047\" xlink:href=\"#DejaVuSans-53\"/>\n      </g>\n     </g>\n    </g>\n    <g id=\"xtick_3\">\n     <g id=\"line2d_3\">\n      <g>\n       <use style=\"stroke:#000000;stroke-width:0.8;\" x=\"110.616514\" xlink:href=\"#m6fdd4a7e87\" y=\"227.673585\"/>\n      </g>\n     </g>\n     <g id=\"text_3\">\n      <!-- 50 -->\n      <g transform=\"translate(104.254014 242.272022)scale(0.1 -0.1)\">\n       <use xlink:href=\"#DejaVuSans-53\"/>\n       <use x=\"63.623047\" xlink:href=\"#DejaVuSans-48\"/>\n      </g>\n     </g>\n    </g>\n    <g id=\"xtick_4\">\n     <g id=\"line2d_4\">\n      <g>\n       <use style=\"stroke:#000000;stroke-width:0.8;\" x=\"148.898204\" xlink:href=\"#m6fdd4a7e87\" y=\"227.673585\"/>\n      </g>\n     </g>\n     <g id=\"text_4\">\n      <!-- 75 -->\n      <defs>\n       <path d=\"M 8.203125 72.90625 \nL 55.078125 72.90625 \nL 55.078125 68.703125 \nL 28.609375 0 \nL 18.3125 0 \nL 43.21875 64.59375 \nL 8.203125 64.59375 \nz\n\" id=\"DejaVuSans-55\"/>\n      </defs>\n      <g transform=\"translate(142.535704 242.272022)scale(0.1 -0.1)\">\n       <use xlink:href=\"#DejaVuSans-55\"/>\n       <use x=\"63.623047\" xlink:href=\"#DejaVuSans-53\"/>\n      </g>\n     </g>\n    </g>\n    <g id=\"xtick_5\">\n     <g id=\"line2d_5\">\n      <g>\n       <use style=\"stroke:#000000;stroke-width:0.8;\" x=\"187.179894\" xlink:href=\"#m6fdd4a7e87\" y=\"227.673585\"/>\n      </g>\n     </g>\n     <g id=\"text_5\">\n      <!-- 100 -->\n      <defs>\n       <path d=\"M 12.40625 8.296875 \nL 28.515625 8.296875 \nL 28.515625 63.921875 \nL 10.984375 60.40625 \nL 10.984375 69.390625 \nL 28.421875 72.90625 \nL 38.28125 72.90625 \nL 38.28125 8.296875 \nL 54.390625 8.296875 \nL 54.390625 0 \nL 12.40625 0 \nz\n\" id=\"DejaVuSans-49\"/>\n      </defs>\n      <g transform=\"translate(177.636144 242.272022)scale(0.1 -0.1)\">\n       <use xlink:href=\"#DejaVuSans-49\"/>\n       <use x=\"63.623047\" xlink:href=\"#DejaVuSans-48\"/>\n       <use x=\"127.246094\" xlink:href=\"#DejaVuSans-48\"/>\n      </g>\n     </g>\n    </g>\n   </g>\n   <g id=\"matplotlib.axis_2\">\n    <g id=\"ytick_1\">\n     <g id=\"line2d_6\">\n      <defs>\n       <path d=\"M 0 0 \nL -3.5 0 \n\" id=\"mb2e606fa0b\" style=\"stroke:#000000;stroke-width:0.8;\"/>\n      </defs>\n      <g>\n       <use style=\"stroke:#000000;stroke-width:0.8;\" x=\"33.2875\" xlink:href=\"#mb2e606fa0b\" y=\"10.999219\"/>\n      </g>\n     </g>\n     <g id=\"text_6\">\n      <!-- 0 -->\n      <g transform=\"translate(19.925 14.798437)scale(0.1 -0.1)\">\n       <use xlink:href=\"#DejaVuSans-48\"/>\n      </g>\n     </g>\n    </g>\n    <g id=\"ytick_2\">\n     <g id=\"line2d_7\">\n      <g>\n       <use style=\"stroke:#000000;stroke-width:0.8;\" x=\"33.2875\" xlink:href=\"#mb2e606fa0b\" y=\"41.624571\"/>\n      </g>\n     </g>\n     <g id=\"text_7\">\n      <!-- 20 -->\n      <g transform=\"translate(13.5625 45.42379)scale(0.1 -0.1)\">\n       <use xlink:href=\"#DejaVuSans-50\"/>\n       <use x=\"63.623047\" xlink:href=\"#DejaVuSans-48\"/>\n      </g>\n     </g>\n    </g>\n    <g id=\"ytick_3\">\n     <g id=\"line2d_8\">\n      <g>\n       <use style=\"stroke:#000000;stroke-width:0.8;\" x=\"33.2875\" xlink:href=\"#mb2e606fa0b\" y=\"72.249923\"/>\n      </g>\n     </g>\n     <g id=\"text_8\">\n      <!-- 40 -->\n      <defs>\n       <path d=\"M 37.796875 64.3125 \nL 12.890625 25.390625 \nL 37.796875 25.390625 \nz\nM 35.203125 72.90625 \nL 47.609375 72.90625 \nL 47.609375 25.390625 \nL 58.015625 25.390625 \nL 58.015625 17.1875 \nL 47.609375 17.1875 \nL 47.609375 0 \nL 37.796875 0 \nL 37.796875 17.1875 \nL 4.890625 17.1875 \nL 4.890625 26.703125 \nz\n\" id=\"DejaVuSans-52\"/>\n      </defs>\n      <g transform=\"translate(13.5625 76.049142)scale(0.1 -0.1)\">\n       <use xlink:href=\"#DejaVuSans-52\"/>\n       <use x=\"63.623047\" xlink:href=\"#DejaVuSans-48\"/>\n      </g>\n     </g>\n    </g>\n    <g id=\"ytick_4\">\n     <g id=\"line2d_9\">\n      <g>\n       <use style=\"stroke:#000000;stroke-width:0.8;\" x=\"33.2875\" xlink:href=\"#mb2e606fa0b\" y=\"102.875275\"/>\n      </g>\n     </g>\n     <g id=\"text_9\">\n      <!-- 60 -->\n      <defs>\n       <path d=\"M 33.015625 40.375 \nQ 26.375 40.375 22.484375 35.828125 \nQ 18.609375 31.296875 18.609375 23.390625 \nQ 18.609375 15.53125 22.484375 10.953125 \nQ 26.375 6.390625 33.015625 6.390625 \nQ 39.65625 6.390625 43.53125 10.953125 \nQ 47.40625 15.53125 47.40625 23.390625 \nQ 47.40625 31.296875 43.53125 35.828125 \nQ 39.65625 40.375 33.015625 40.375 \nz\nM 52.59375 71.296875 \nL 52.59375 62.3125 \nQ 48.875 64.0625 45.09375 64.984375 \nQ 41.3125 65.921875 37.59375 65.921875 \nQ 27.828125 65.921875 22.671875 59.328125 \nQ 17.53125 52.734375 16.796875 39.40625 \nQ 19.671875 43.65625 24.015625 45.921875 \nQ 28.375 48.1875 33.59375 48.1875 \nQ 44.578125 48.1875 50.953125 41.515625 \nQ 57.328125 34.859375 57.328125 23.390625 \nQ 57.328125 12.15625 50.6875 5.359375 \nQ 44.046875 -1.421875 33.015625 -1.421875 \nQ 20.359375 -1.421875 13.671875 8.265625 \nQ 6.984375 17.96875 6.984375 36.375 \nQ 6.984375 53.65625 15.1875 63.9375 \nQ 23.390625 74.21875 37.203125 74.21875 \nQ 40.921875 74.21875 44.703125 73.484375 \nQ 48.484375 72.75 52.59375 71.296875 \nz\n\" id=\"DejaVuSans-54\"/>\n      </defs>\n      <g transform=\"translate(13.5625 106.674494)scale(0.1 -0.1)\">\n       <use xlink:href=\"#DejaVuSans-54\"/>\n       <use x=\"63.623047\" xlink:href=\"#DejaVuSans-48\"/>\n      </g>\n     </g>\n    </g>\n    <g id=\"ytick_5\">\n     <g id=\"line2d_10\">\n      <g>\n       <use style=\"stroke:#000000;stroke-width:0.8;\" x=\"33.2875\" xlink:href=\"#mb2e606fa0b\" y=\"133.500627\"/>\n      </g>\n     </g>\n     <g id=\"text_10\">\n      <!-- 80 -->\n      <defs>\n       <path d=\"M 31.78125 34.625 \nQ 24.75 34.625 20.71875 30.859375 \nQ 16.703125 27.09375 16.703125 20.515625 \nQ 16.703125 13.921875 20.71875 10.15625 \nQ 24.75 6.390625 31.78125 6.390625 \nQ 38.8125 6.390625 42.859375 10.171875 \nQ 46.921875 13.96875 46.921875 20.515625 \nQ 46.921875 27.09375 42.890625 30.859375 \nQ 38.875 34.625 31.78125 34.625 \nz\nM 21.921875 38.8125 \nQ 15.578125 40.375 12.03125 44.71875 \nQ 8.5 49.078125 8.5 55.328125 \nQ 8.5 64.0625 14.71875 69.140625 \nQ 20.953125 74.21875 31.78125 74.21875 \nQ 42.671875 74.21875 48.875 69.140625 \nQ 55.078125 64.0625 55.078125 55.328125 \nQ 55.078125 49.078125 51.53125 44.71875 \nQ 48 40.375 41.703125 38.8125 \nQ 48.828125 37.15625 52.796875 32.3125 \nQ 56.78125 27.484375 56.78125 20.515625 \nQ 56.78125 9.90625 50.3125 4.234375 \nQ 43.84375 -1.421875 31.78125 -1.421875 \nQ 19.734375 -1.421875 13.25 4.234375 \nQ 6.78125 9.90625 6.78125 20.515625 \nQ 6.78125 27.484375 10.78125 32.3125 \nQ 14.796875 37.15625 21.921875 38.8125 \nz\nM 18.3125 54.390625 \nQ 18.3125 48.734375 21.84375 45.5625 \nQ 25.390625 42.390625 31.78125 42.390625 \nQ 38.140625 42.390625 41.71875 45.5625 \nQ 45.3125 48.734375 45.3125 54.390625 \nQ 45.3125 60.0625 41.71875 63.234375 \nQ 38.140625 66.40625 31.78125 66.40625 \nQ 25.390625 66.40625 21.84375 63.234375 \nQ 18.3125 60.0625 18.3125 54.390625 \nz\n\" id=\"DejaVuSans-56\"/>\n      </defs>\n      <g transform=\"translate(13.5625 137.299846)scale(0.1 -0.1)\">\n       <use xlink:href=\"#DejaVuSans-56\"/>\n       <use x=\"63.623047\" xlink:href=\"#DejaVuSans-48\"/>\n      </g>\n     </g>\n    </g>\n    <g id=\"ytick_6\">\n     <g id=\"line2d_11\">\n      <g>\n       <use style=\"stroke:#000000;stroke-width:0.8;\" x=\"33.2875\" xlink:href=\"#mb2e606fa0b\" y=\"164.125979\"/>\n      </g>\n     </g>\n     <g id=\"text_11\">\n      <!-- 100 -->\n      <g transform=\"translate(7.2 167.925198)scale(0.1 -0.1)\">\n       <use xlink:href=\"#DejaVuSans-49\"/>\n       <use x=\"63.623047\" xlink:href=\"#DejaVuSans-48\"/>\n       <use x=\"127.246094\" xlink:href=\"#DejaVuSans-48\"/>\n      </g>\n     </g>\n    </g>\n    <g id=\"ytick_7\">\n     <g id=\"line2d_12\">\n      <g>\n       <use style=\"stroke:#000000;stroke-width:0.8;\" x=\"33.2875\" xlink:href=\"#mb2e606fa0b\" y=\"194.751331\"/>\n      </g>\n     </g>\n     <g id=\"text_12\">\n      <!-- 120 -->\n      <g transform=\"translate(7.2 198.55055)scale(0.1 -0.1)\">\n       <use xlink:href=\"#DejaVuSans-49\"/>\n       <use x=\"63.623047\" xlink:href=\"#DejaVuSans-50\"/>\n       <use x=\"127.246094\" xlink:href=\"#DejaVuSans-48\"/>\n      </g>\n     </g>\n    </g>\n    <g id=\"ytick_8\">\n     <g id=\"line2d_13\">\n      <g>\n       <use style=\"stroke:#000000;stroke-width:0.8;\" x=\"33.2875\" xlink:href=\"#mb2e606fa0b\" y=\"225.376684\"/>\n      </g>\n     </g>\n     <g id=\"text_13\">\n      <!-- 140 -->\n      <g transform=\"translate(7.2 229.175902)scale(0.1 -0.1)\">\n       <use xlink:href=\"#DejaVuSans-49\"/>\n       <use x=\"63.623047\" xlink:href=\"#DejaVuSans-52\"/>\n       <use x=\"127.246094\" xlink:href=\"#DejaVuSans-48\"/>\n      </g>\n     </g>\n    </g>\n   </g>\n   <g id=\"patch_3\">\n    <path d=\"M 33.2875 227.673585 \nL 33.2875 10.233585 \n\" style=\"fill:none;stroke:#000000;stroke-linecap:square;stroke-linejoin:miter;stroke-width:0.8;\"/>\n   </g>\n   <g id=\"patch_4\">\n    <path d=\"M 209.383275 227.673585 \nL 209.383275 10.233585 \n\" style=\"fill:none;stroke:#000000;stroke-linecap:square;stroke-linejoin:miter;stroke-width:0.8;\"/>\n   </g>\n   <g id=\"patch_5\">\n    <path d=\"M 33.2875 227.673585 \nL 209.383275 227.673585 \n\" style=\"fill:none;stroke:#000000;stroke-linecap:square;stroke-linejoin:miter;stroke-width:0.8;\"/>\n   </g>\n   <g id=\"patch_6\">\n    <path d=\"M 33.2875 10.233585 \nL 209.383275 10.233585 \n\" style=\"fill:none;stroke:#000000;stroke-linecap:square;stroke-linejoin:miter;stroke-width:0.8;\"/>\n   </g>\n  </g>\n </g>\n <defs>\n  <clipPath id=\"p924d3f59ab\">\n   <rect height=\"217.44\" width=\"176.095775\" x=\"33.2875\" y=\"10.233585\"/>\n  </clipPath>\n </defs>\n</svg>\n",
      "image/png": "[encoded data removed]"
     },
     "metadata": {
      "needs_background": "light"
     }
    },
    {
     "output_type": "stream",
     "name": "stdout",
     "text": "[0 1 2 3 4 5 6 7]\n"
    },
    {
     "output_type": "display_data",
     "data": {
      "text/plain": "<Figure size 432x288 with 1 Axes>",
      "image/svg+xml": "<?xml version=\"1.0\" encoding=\"utf-8\" standalone=\"no\"?>\n<!DOCTYPE svg PUBLIC \"-//W3C//DTD SVG 1.1//EN\"\n  \"http://www.w3.org/Graphics/SVG/1.1/DTD/svg11.dtd\">\n<!-- Created with matplotlib (https://matplotlib.org/) -->\n<svg height=\"251.55171pt\" version=\"1.1\" viewBox=\"0 0 216.583275 251.55171\" width=\"216.583275pt\" xmlns=\"http://www.w3.org/2000/svg\" xmlns:xlink=\"http://www.w3.org/1999/xlink\">\n <defs>\n  <style type=\"text/css\">\n*{stroke-linecap:butt;stroke-linejoin:round;}\n  </style>\n </defs>\n <g id=\"figure_1\">\n  <g id=\"patch_1\">\n   <path d=\"M 0 251.55171 \nL 216.583275 251.55171 \nL 216.583275 0 \nL 0 0 \nz\n\" style=\"fill:none;\"/>\n  </g>\n  <g id=\"axes_1\">\n   <g id=\"patch_2\">\n    <path d=\"M 33.2875 227.673585 \nL 209.383275 227.673585 \nL 209.383275 10.233585 \nL 33.2875 10.233585 \nz\n\" style=\"fill:#ffffff;\"/>\n   </g>\n   <g clip-path=\"url(#p61f53624da)\">\n    <image height=\"218\" id=\"image9fdad76080\" transform=\"scale(1 -1)translate(0 -218)\" width=\"177\" x=\"33.2875\" xlink:href=\"data:image/png;base64,\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\" y=\"-9.673585\"/>\n   </g>\n   <g id=\"matplotlib.axis_1\">\n    <g id=\"xtick_1\">\n     <g id=\"line2d_1\">\n      <defs>\n       <path d=\"M 0 0 \nL 0 3.5 \n\" id=\"m760c74e2a7\" style=\"stroke:#000000;stroke-width:0.8;\"/>\n      </defs>\n      <g>\n       <use style=\"stroke:#000000;stroke-width:0.8;\" x=\"34.053134\" xlink:href=\"#m760c74e2a7\" y=\"227.673585\"/>\n      </g>\n     </g>\n     <g id=\"text_1\">\n      <!-- 0 -->\n      <defs>\n       <path d=\"M 31.78125 66.40625 \nQ 24.171875 66.40625 20.328125 58.90625 \nQ 16.5 51.421875 16.5 36.375 \nQ 16.5 21.390625 20.328125 13.890625 \nQ 24.171875 6.390625 31.78125 6.390625 \nQ 39.453125 6.390625 43.28125 13.890625 \nQ 47.125 21.390625 47.125 36.375 \nQ 47.125 51.421875 43.28125 58.90625 \nQ 39.453125 66.40625 31.78125 66.40625 \nz\nM 31.78125 74.21875 \nQ 44.046875 74.21875 50.515625 64.515625 \nQ 56.984375 54.828125 56.984375 36.375 \nQ 56.984375 17.96875 50.515625 8.265625 \nQ 44.046875 -1.421875 31.78125 -1.421875 \nQ 19.53125 -1.421875 13.0625 8.265625 \nQ 6.59375 17.96875 6.59375 36.375 \nQ 6.59375 54.828125 13.0625 64.515625 \nQ 19.53125 74.21875 31.78125 74.21875 \nz\n\" id=\"DejaVuSans-48\"/>\n      </defs>\n      <g transform=\"translate(30.871884 242.272022)scale(0.1 -0.1)\">\n       <use xlink:href=\"#DejaVuSans-48\"/>\n      </g>\n     </g>\n    </g>\n    <g id=\"xtick_2\">\n     <g id=\"line2d_2\">\n      <g>\n       <use style=\"stroke:#000000;stroke-width:0.8;\" x=\"72.334824\" xlink:href=\"#m760c74e2a7\" y=\"227.673585\"/>\n      </g>\n     </g>\n     <g id=\"text_2\">\n      <!-- 25 -->\n      <defs>\n       <path d=\"M 19.1875 8.296875 \nL 53.609375 8.296875 \nL 53.609375 0 \nL 7.328125 0 \nL 7.328125 8.296875 \nQ 12.9375 14.109375 22.625 23.890625 \nQ 32.328125 33.6875 34.8125 36.53125 \nQ 39.546875 41.84375 41.421875 45.53125 \nQ 43.3125 49.21875 43.3125 52.78125 \nQ 43.3125 58.59375 39.234375 62.25 \nQ 35.15625 65.921875 28.609375 65.921875 \nQ 23.96875 65.921875 18.8125 64.3125 \nQ 13.671875 62.703125 7.8125 59.421875 \nL 7.8125 69.390625 \nQ 13.765625 71.78125 18.9375 73 \nQ 24.125 74.21875 28.421875 74.21875 \nQ 39.75 74.21875 46.484375 68.546875 \nQ 53.21875 62.890625 53.21875 53.421875 \nQ 53.21875 48.921875 51.53125 44.890625 \nQ 49.859375 40.875 45.40625 35.40625 \nQ 44.1875 33.984375 37.640625 27.21875 \nQ 31.109375 20.453125 19.1875 8.296875 \nz\n\" id=\"DejaVuSans-50\"/>\n       <path d=\"M 10.796875 72.90625 \nL 49.515625 72.90625 \nL 49.515625 64.59375 \nL 19.828125 64.59375 \nL 19.828125 46.734375 \nQ 21.96875 47.46875 24.109375 47.828125 \nQ 26.265625 48.1875 28.421875 48.1875 \nQ 40.625 48.1875 47.75 41.5 \nQ 54.890625 34.8125 54.890625 23.390625 \nQ 54.890625 11.625 47.5625 5.09375 \nQ 40.234375 -1.421875 26.90625 -1.421875 \nQ 22.3125 -1.421875 17.546875 -0.640625 \nQ 12.796875 0.140625 7.71875 1.703125 \nL 7.71875 11.625 \nQ 12.109375 9.234375 16.796875 8.0625 \nQ 21.484375 6.890625 26.703125 6.890625 \nQ 35.15625 6.890625 40.078125 11.328125 \nQ 45.015625 15.765625 45.015625 23.390625 \nQ 45.015625 31 40.078125 35.4375 \nQ 35.15625 39.890625 26.703125 39.890625 \nQ 22.75 39.890625 18.8125 39.015625 \nQ 14.890625 38.140625 10.796875 36.28125 \nz\n\" id=\"DejaVuSans-53\"/>\n      </defs>\n      <g transform=\"translate(65.972324 242.272022)scale(0.1 -0.1)\">\n       <use xlink:href=\"#DejaVuSans-50\"/>\n       <use x=\"63.623047\" xlink:href=\"#DejaVuSans-53\"/>\n      </g>\n     </g>\n    </g>\n    <g id=\"xtick_3\">\n     <g id=\"line2d_3\">\n      <g>\n       <use style=\"stroke:#000000;stroke-width:0.8;\" x=\"110.616514\" xlink:href=\"#m760c74e2a7\" y=\"227.673585\"/>\n      </g>\n     </g>\n     <g id=\"text_3\">\n      <!-- 50 -->\n      <g transform=\"translate(104.254014 242.272022)scale(0.1 -0.1)\">\n       <use xlink:href=\"#DejaVuSans-53\"/>\n       <use x=\"63.623047\" xlink:href=\"#DejaVuSans-48\"/>\n      </g>\n     </g>\n    </g>\n    <g id=\"xtick_4\">\n     <g id=\"line2d_4\">\n      <g>\n       <use style=\"stroke:#000000;stroke-width:0.8;\" x=\"148.898204\" xlink:href=\"#m760c74e2a7\" y=\"227.673585\"/>\n      </g>\n     </g>\n     <g id=\"text_4\">\n      <!-- 75 -->\n      <defs>\n       <path d=\"M 8.203125 72.90625 \nL 55.078125 72.90625 \nL 55.078125 68.703125 \nL 28.609375 0 \nL 18.3125 0 \nL 43.21875 64.59375 \nL 8.203125 64.59375 \nz\n\" id=\"DejaVuSans-55\"/>\n      </defs>\n      <g transform=\"translate(142.535704 242.272022)scale(0.1 -0.1)\">\n       <use xlink:href=\"#DejaVuSans-55\"/>\n       <use x=\"63.623047\" xlink:href=\"#DejaVuSans-53\"/>\n      </g>\n     </g>\n    </g>\n    <g id=\"xtick_5\">\n     <g id=\"line2d_5\">\n      <g>\n       <use style=\"stroke:#000000;stroke-width:0.8;\" x=\"187.179894\" xlink:href=\"#m760c74e2a7\" y=\"227.673585\"/>\n      </g>\n     </g>\n     <g id=\"text_5\">\n      <!-- 100 -->\n      <defs>\n       <path d=\"M 12.40625 8.296875 \nL 28.515625 8.296875 \nL 28.515625 63.921875 \nL 10.984375 60.40625 \nL 10.984375 69.390625 \nL 28.421875 72.90625 \nL 38.28125 72.90625 \nL 38.28125 8.296875 \nL 54.390625 8.296875 \nL 54.390625 0 \nL 12.40625 0 \nz\n\" id=\"DejaVuSans-49\"/>\n      </defs>\n      <g transform=\"translate(177.636144 242.272022)scale(0.1 -0.1)\">\n       <use xlink:href=\"#DejaVuSans-49\"/>\n       <use x=\"63.623047\" xlink:href=\"#DejaVuSans-48\"/>\n       <use x=\"127.246094\" xlink:href=\"#DejaVuSans-48\"/>\n      </g>\n     </g>\n    </g>\n   </g>\n   <g id=\"matplotlib.axis_2\">\n    <g id=\"ytick_1\">\n     <g id=\"line2d_6\">\n      <defs>\n       <path d=\"M 0 0 \nL -3.5 0 \n\" id=\"m3094cfa14a\" style=\"stroke:#000000;stroke-width:0.8;\"/>\n      </defs>\n      <g>\n       <use style=\"stroke:#000000;stroke-width:0.8;\" x=\"33.2875\" xlink:href=\"#m3094cfa14a\" y=\"10.999219\"/>\n      </g>\n     </g>\n     <g id=\"text_6\">\n      <!-- 0 -->\n      <g transform=\"translate(19.925 14.798437)scale(0.1 -0.1)\">\n       <use xlink:href=\"#DejaVuSans-48\"/>\n      </g>\n     </g>\n    </g>\n    <g id=\"ytick_2\">\n     <g id=\"line2d_7\">\n      <g>\n       <use style=\"stroke:#000000;stroke-width:0.8;\" x=\"33.2875\" xlink:href=\"#m3094cfa14a\" y=\"41.624571\"/>\n      </g>\n     </g>\n     <g id=\"text_7\">\n      <!-- 20 -->\n      <g transform=\"translate(13.5625 45.42379)scale(0.1 -0.1)\">\n       <use xlink:href=\"#DejaVuSans-50\"/>\n       <use x=\"63.623047\" xlink:href=\"#DejaVuSans-48\"/>\n      </g>\n     </g>\n    </g>\n    <g id=\"ytick_3\">\n     <g id=\"line2d_8\">\n      <g>\n       <use style=\"stroke:#000000;stroke-width:0.8;\" x=\"33.2875\" xlink:href=\"#m3094cfa14a\" y=\"72.249923\"/>\n      </g>\n     </g>\n     <g id=\"text_8\">\n      <!-- 40 -->\n      <defs>\n       <path d=\"M 37.796875 64.3125 \nL 12.890625 25.390625 \nL 37.796875 25.390625 \nz\nM 35.203125 72.90625 \nL 47.609375 72.90625 \nL 47.609375 25.390625 \nL 58.015625 25.390625 \nL 58.015625 17.1875 \nL 47.609375 17.1875 \nL 47.609375 0 \nL 37.796875 0 \nL 37.796875 17.1875 \nL 4.890625 17.1875 \nL 4.890625 26.703125 \nz\n\" id=\"DejaVuSans-52\"/>\n      </defs>\n      <g transform=\"translate(13.5625 76.049142)scale(0.1 -0.1)\">\n       <use xlink:href=\"#DejaVuSans-52\"/>\n       <use x=\"63.623047\" xlink:href=\"#DejaVuSans-48\"/>\n      </g>\n     </g>\n    </g>\n    <g id=\"ytick_4\">\n     <g id=\"line2d_9\">\n      <g>\n       <use style=\"stroke:#000000;stroke-width:0.8;\" x=\"33.2875\" xlink:href=\"#m3094cfa14a\" y=\"102.875275\"/>\n      </g>\n     </g>\n     <g id=\"text_9\">\n      <!-- 60 -->\n      <defs>\n       <path d=\"M 33.015625 40.375 \nQ 26.375 40.375 22.484375 35.828125 \nQ 18.609375 31.296875 18.609375 23.390625 \nQ 18.609375 15.53125 22.484375 10.953125 \nQ 26.375 6.390625 33.015625 6.390625 \nQ 39.65625 6.390625 43.53125 10.953125 \nQ 47.40625 15.53125 47.40625 23.390625 \nQ 47.40625 31.296875 43.53125 35.828125 \nQ 39.65625 40.375 33.015625 40.375 \nz\nM 52.59375 71.296875 \nL 52.59375 62.3125 \nQ 48.875 64.0625 45.09375 64.984375 \nQ 41.3125 65.921875 37.59375 65.921875 \nQ 27.828125 65.921875 22.671875 59.328125 \nQ 17.53125 52.734375 16.796875 39.40625 \nQ 19.671875 43.65625 24.015625 45.921875 \nQ 28.375 48.1875 33.59375 48.1875 \nQ 44.578125 48.1875 50.953125 41.515625 \nQ 57.328125 34.859375 57.328125 23.390625 \nQ 57.328125 12.15625 50.6875 5.359375 \nQ 44.046875 -1.421875 33.015625 -1.421875 \nQ 20.359375 -1.421875 13.671875 8.265625 \nQ 6.984375 17.96875 6.984375 36.375 \nQ 6.984375 53.65625 15.1875 63.9375 \nQ 23.390625 74.21875 37.203125 74.21875 \nQ 40.921875 74.21875 44.703125 73.484375 \nQ 48.484375 72.75 52.59375 71.296875 \nz\n\" id=\"DejaVuSans-54\"/>\n      </defs>\n      <g transform=\"translate(13.5625 106.674494)scale(0.1 -0.1)\">\n       <use xlink:href=\"#DejaVuSans-54\"/>\n       <use x=\"63.623047\" xlink:href=\"#DejaVuSans-48\"/>\n      </g>\n     </g>\n    </g>\n    <g id=\"ytick_5\">\n     <g id=\"line2d_10\">\n      <g>\n       <use style=\"stroke:#000000;stroke-width:0.8;\" x=\"33.2875\" xlink:href=\"#m3094cfa14a\" y=\"133.500627\"/>\n      </g>\n     </g>\n     <g id=\"text_10\">\n      <!-- 80 -->\n      <defs>\n       <path d=\"M 31.78125 34.625 \nQ 24.75 34.625 20.71875 30.859375 \nQ 16.703125 27.09375 16.703125 20.515625 \nQ 16.703125 13.921875 20.71875 10.15625 \nQ 24.75 6.390625 31.78125 6.390625 \nQ 38.8125 6.390625 42.859375 10.171875 \nQ 46.921875 13.96875 46.921875 20.515625 \nQ 46.921875 27.09375 42.890625 30.859375 \nQ 38.875 34.625 31.78125 34.625 \nz\nM 21.921875 38.8125 \nQ 15.578125 40.375 12.03125 44.71875 \nQ 8.5 49.078125 8.5 55.328125 \nQ 8.5 64.0625 14.71875 69.140625 \nQ 20.953125 74.21875 31.78125 74.21875 \nQ 42.671875 74.21875 48.875 69.140625 \nQ 55.078125 64.0625 55.078125 55.328125 \nQ 55.078125 49.078125 51.53125 44.71875 \nQ 48 40.375 41.703125 38.8125 \nQ 48.828125 37.15625 52.796875 32.3125 \nQ 56.78125 27.484375 56.78125 20.515625 \nQ 56.78125 9.90625 50.3125 4.234375 \nQ 43.84375 -1.421875 31.78125 -1.421875 \nQ 19.734375 -1.421875 13.25 4.234375 \nQ 6.78125 9.90625 6.78125 20.515625 \nQ 6.78125 27.484375 10.78125 32.3125 \nQ 14.796875 37.15625 21.921875 38.8125 \nz\nM 18.3125 54.390625 \nQ 18.3125 48.734375 21.84375 45.5625 \nQ 25.390625 42.390625 31.78125 42.390625 \nQ 38.140625 42.390625 41.71875 45.5625 \nQ 45.3125 48.734375 45.3125 54.390625 \nQ 45.3125 60.0625 41.71875 63.234375 \nQ 38.140625 66.40625 31.78125 66.40625 \nQ 25.390625 66.40625 21.84375 63.234375 \nQ 18.3125 60.0625 18.3125 54.390625 \nz\n\" id=\"DejaVuSans-56\"/>\n      </defs>\n      <g transform=\"translate(13.5625 137.299846)scale(0.1 -0.1)\">\n       <use xlink:href=\"#DejaVuSans-56\"/>\n       <use x=\"63.623047\" xlink:href=\"#DejaVuSans-48\"/>\n      </g>\n     </g>\n    </g>\n    <g id=\"ytick_6\">\n     <g id=\"line2d_11\">\n      <g>\n       <use style=\"stroke:#000000;stroke-width:0.8;\" x=\"33.2875\" xlink:href=\"#m3094cfa14a\" y=\"164.125979\"/>\n      </g>\n     </g>\n     <g id=\"text_11\">\n      <!-- 100 -->\n      <g transform=\"translate(7.2 167.925198)scale(0.1 -0.1)\">\n       <use xlink:href=\"#DejaVuSans-49\"/>\n       <use x=\"63.623047\" xlink:href=\"#DejaVuSans-48\"/>\n       <use x=\"127.246094\" xlink:href=\"#DejaVuSans-48\"/>\n      </g>\n     </g>\n    </g>\n    <g id=\"ytick_7\">\n     <g id=\"line2d_12\">\n      <g>\n       <use style=\"stroke:#000000;stroke-width:0.8;\" x=\"33.2875\" xlink:href=\"#m3094cfa14a\" y=\"194.751331\"/>\n      </g>\n     </g>\n     <g id=\"text_12\">\n      <!-- 120 -->\n      <g transform=\"translate(7.2 198.55055)scale(0.1 -0.1)\">\n       <use xlink:href=\"#DejaVuSans-49\"/>\n       <use x=\"63.623047\" xlink:href=\"#DejaVuSans-50\"/>\n       <use x=\"127.246094\" xlink:href=\"#DejaVuSans-48\"/>\n      </g>\n     </g>\n    </g>\n    <g id=\"ytick_8\">\n     <g id=\"line2d_13\">\n      <g>\n       <use style=\"stroke:#000000;stroke-width:0.8;\" x=\"33.2875\" xlink:href=\"#m3094cfa14a\" y=\"225.376684\"/>\n      </g>\n     </g>\n     <g id=\"text_13\">\n      <!-- 140 -->\n      <g transform=\"translate(7.2 229.175902)scale(0.1 -0.1)\">\n       <use xlink:href=\"#DejaVuSans-49\"/>\n       <use x=\"63.623047\" xlink:href=\"#DejaVuSans-52\"/>\n       <use x=\"127.246094\" xlink:href=\"#DejaVuSans-48\"/>\n      </g>\n     </g>\n    </g>\n   </g>\n   <g id=\"patch_3\">\n    <path d=\"M 33.2875 227.673585 \nL 33.2875 10.233585 \n\" style=\"fill:none;stroke:#000000;stroke-linecap:square;stroke-linejoin:miter;stroke-width:0.8;\"/>\n   </g>\n   <g id=\"patch_4\">\n    <path d=\"M 209.383275 227.673585 \nL 209.383275 10.233585 \n\" style=\"fill:none;stroke:#000000;stroke-linecap:square;stroke-linejoin:miter;stroke-width:0.8;\"/>\n   </g>\n   <g id=\"patch_5\">\n    <path d=\"M 33.2875 227.673585 \nL 209.383275 227.673585 \n\" style=\"fill:none;stroke:#000000;stroke-linecap:square;stroke-linejoin:miter;stroke-width:0.8;\"/>\n   </g>\n   <g id=\"patch_6\">\n    <path d=\"M 33.2875 10.233585 \nL 209.383275 10.233585 \n\" style=\"fill:none;stroke:#000000;stroke-linecap:square;stroke-linejoin:miter;stroke-width:0.8;\"/>\n   </g>\n  </g>\n </g>\n <defs>\n  <clipPath id=\"p61f53624da\">\n   <rect height=\"217.44\" width=\"176.095775\" x=\"33.2875\" y=\"10.233585\"/>\n  </clipPath>\n </defs>\n</svg>\n",
      "image/png": "[encoded data removed]"
     },
     "metadata": {
      "needs_background": "light"
     }
    }
   ],
   "source": [
    "plt.imshow(prediction)\n",
    "print(np.unique(prediction))\n",
    "plt.show()\n",
    "plt.imshow(ambi)\n",
    "plt.show()\n",
    "plt.imshow(prediction_cleaned)\n",
    "print(np.unique(prediction_cleaned))\n",
    "plt.show()"
   ]
  },
  {
   "cell_type": "code",
   "execution_count": null,
   "metadata": {},
   "outputs": [],
   "source": []
  }
 ],
 "metadata": {
  "language_info": {
   "codemirror_mode": {
    "name": "ipython",
    "version": 3
   },
   "file_extension": ".py",
   "mimetype": "text/x-python",
   "name": "python",
   "nbconvert_exporter": "python",
   "pygments_lexer": "ipython3",
   "version": "3.6.10-final"
  },
  "orig_nbformat": 2,
  "kernelspec": {
   "name": "python3",
   "display_name": "Python 3"
  }
 },
 "nbformat": 4,
 "nbformat_minor": 2
}